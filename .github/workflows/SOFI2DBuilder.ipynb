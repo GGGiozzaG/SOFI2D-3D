{
 "cells": [
  {
   "cell_type": "markdown",
   "id": "3864dd3b",
   "metadata": {},
   "source": [
    "## SOFI 2D Model Builder\n",
    "- This code shows an interactive and step-by-step code to generate 2D models ready to run in SOFI2D\n",
    "- Structures and examples are focused on acoustic well-logging applications\n",
    "- Currently, only vertical or horizontal features can be incorporated in the model\n",
    "\n",
    "##### Reference:\n",
    "I used - SOFI 2D - User Guide written by Thomas Bohlen, Denise De Nil, Daniel Kohn and Stefan Jetschny\n",
    "\n",
    "Link: https://git.scc.kit.edu/GPIAG-Software/SOFI2D/-/wikis/home\n"
   ]
  },
  {
   "cell_type": "markdown",
   "id": "fe7b1fdf",
   "metadata": {},
   "source": [
    "#### Imported Libraries"
   ]
  },
  {
   "cell_type": "code",
   "execution_count": 50,
   "id": "be94f280",
   "metadata": {},
   "outputs": [],
   "source": [
    "import os                                                 # to set current working directory \n",
    "import math                                               # basic calculations like square root\n",
    "import numpy as np                                        # arrays and matrix math\n",
    "import pandas as pd                                       # DataFrames for tabular data\n",
    "import matplotlib.pyplot as plt                           # plotting\n",
    "import pandas.plotting as pd_plot\n",
    "from sklearn.cluster import DBSCAN        # DBSCAN clustering\n",
    "from sklearn.preprocessing import MinMaxScaler # min/max normalization\n",
    "import seaborn as sns\n",
    "import json"
   ]
  },
  {
   "cell_type": "markdown",
   "id": "a2263550",
   "metadata": {},
   "source": [
    "#### Functions"
   ]
  },
  {
   "cell_type": "code",
   "execution_count": 51,
   "id": "9e91ca84",
   "metadata": {},
   "outputs": [],
   "source": [
    "def plotmodels(xx_grid,yy_grid,zz_Vp,zz_Vs,zz_Rho,zz_Qp,zz_Qs):\n",
    "    plt.subplot(2,3,1)\n",
    "    im1 = plt.contourf(xx_grid, yy_grid, zz_Vp,500,cmap=plt.cm.jet,norm=None)\n",
    "    plt.title('P-wave model')\n",
    "    plt.xlabel('x (grid number)'); plt.ylabel('y (grid number)')\n",
    "    cbar = plt.colorbar(im1, orientation = 'vertical')\n",
    "    cbar.set_label(\"P-wave velocity (m/s)\")\n",
    "\n",
    "    plt.subplot(2,3,2)\n",
    "    im2 = plt.contourf(xx_grid, yy_grid, zz_Vs,500,cmap=plt.cm.jet,norm=None)\n",
    "    plt.title('S-wave model')\n",
    "    plt.xlabel('x (grid number)'); plt.ylabel('y (grid number)')\n",
    "    cbar = plt.colorbar(im2, orientation = 'vertical')\n",
    "    cbar.set_label(\"S-wave velocity (m/s)\")\n",
    "\n",
    "    plt.subplot(2,3,3)\n",
    "    im3 = plt.contourf(xx_grid, yy_grid, zz_Rho,500,cmap=plt.cm.jet,norm=None)\n",
    "    plt.title('Density model')\n",
    "    plt.xlabel('x (grid number)'); plt.ylabel('y (grid number)')\n",
    "    cbar = plt.colorbar(im3, orientation = 'vertical')\n",
    "    cbar.set_label(\"Density (kg/m^3)\")\n",
    "\n",
    "    plt.subplot(2,3,4)\n",
    "    im4 = plt.contourf(xx_grid, yy_grid, zz_Qp,500,cmap=plt.cm.jet,norm=None)\n",
    "    plt.title('P-wave attenuation model')\n",
    "    plt.xlabel('x (grid number)'); plt.ylabel('y (grid number)')\n",
    "    cbar = plt.colorbar(im4, orientation = 'vertical')\n",
    "    cbar.set_label(\"P-wave attenuation\")\n",
    "\n",
    "    plt.subplot(2,3,5)\n",
    "    im5 = plt.contourf(xx_grid, yy_grid, zz_Qs,500,cmap=plt.cm.jet,norm=None)\n",
    "    plt.title('S-wave attenuation model')\n",
    "    plt.xlabel('x (grid number)'); plt.ylabel('y (grid number)')\n",
    "    cbar = plt.colorbar(im5, orientation = 'vertical')\n",
    "    cbar.set_label(\"S-wave attenuation\")\n",
    "\n",
    "    plt.subplots_adjust(left=0.0, bottom=0.0, right=3.0, top=3, wspace=0.2, hspace=0.2)\n",
    "    \n",
    "def SRPlacement(dh_model,x_start,x_end,y_start,y_end):\n",
    "    xgrid_start=int(np.round(x_start/dh_model))\n",
    "    xgrid_end=int(np.round(x_end/dh_model))\n",
    "    ygrid_start=int(np.round(y_start/dh_model))\n",
    "    ygrid_end=int(np.round(y_end/dh_model))\n",
    "    if xgrid_end-xgrid_start==0:\n",
    "        if ygrid_end-ygrid_start==0:\n",
    "            XSRC_grid=xgrid_start\n",
    "            YSRC_grid=ygrid_start\n",
    "        else:\n",
    "            XSRC_grid=np.ones(ygrid_end-ygrid_start)*xgrid_start\n",
    "            YSRC_grid=np.arange(ygrid_start,ygrid_end,1)\n",
    "    else:\n",
    "        if ygrid_end-ygrid_start==0:\n",
    "            YSRC_grid=np.ones(xgrid_end-xgrid_start)*ygrid_start\n",
    "            XSRC_grid=np.arange(xgrid_start,xgrid_end,1)\n",
    "        else:\n",
    "            b=(ygrid_end-ygrid_start)/(xgrid_end-xgrid_start)\n",
    "            a=ygrid_start-b*xgrid_start\n",
    "            if xgrid_end-xgrid_start>ygrid_end-ygrid_start:\n",
    "                YSRC_grid=np.ones(xgrid_end-xgrid_start)\n",
    "                XSRC_grid=np.arange(xgrid_start,xgrid_end,1)\n",
    "                for n in range(len(YSRC_grid)):\n",
    "                    YSRC_grid[n]=int(round(a+b*XSRC_grid[n]))\n",
    "            else:\n",
    "                XSRC_grid=np.ones(ygrid_end-ygrid_start)\n",
    "                YSRC_grid=np.arange(ygrid_start,ygrid_end,1)\n",
    "                for n in range(len(YSRC_grid)):\n",
    "                    XSRC_grid[n]=int(round((YSRC_grid[n]-a)/b))\n",
    "    return XSRC_grid, YSRC_grid"
   ]
  },
  {
   "cell_type": "markdown",
   "id": "9a471831",
   "metadata": {},
   "source": [
    "### 1. Defining the grid\n",
    "Optimal grid dimensions definition requires knowledge of:\n",
    "- Maximum and minimum velocities\n",
    "- Maximum frequency\n",
    "\n",
    "These two set of parameters give recommended grid size $dh$ and time step $DT$\n",
    "After that, knowledge of model dimensions is required:\n",
    "- X-Y Dimensions\n",
    "- Modeling time span\n",
    "\n",
    "These second set of parameters are in charge of defining total number of steps $NT$ and grid dimension $NX$ and $NY$\n"
   ]
  },
  {
   "cell_type": "code",
   "execution_count": 52,
   "id": "f075719e",
   "metadata": {},
   "outputs": [
    {
     "data": {
      "text/html": [
       "<div>\n",
       "<style scoped>\n",
       "    .dataframe tbody tr th:only-of-type {\n",
       "        vertical-align: middle;\n",
       "    }\n",
       "\n",
       "    .dataframe tbody tr th {\n",
       "        vertical-align: top;\n",
       "    }\n",
       "\n",
       "    .dataframe thead th {\n",
       "        text-align: right;\n",
       "    }\n",
       "</style>\n",
       "<table border=\"1\" class=\"dataframe\">\n",
       "  <thead>\n",
       "    <tr style=\"text-align: right;\">\n",
       "      <th></th>\n",
       "      <th>n_Taylor</th>\n",
       "      <th>dh</th>\n",
       "      <th>h_1</th>\n",
       "      <th>h_1.17</th>\n",
       "      <th>h_1.24</th>\n",
       "      <th>h_1.29</th>\n",
       "      <th>h_1.32</th>\n",
       "      <th>h_1.34</th>\n",
       "    </tr>\n",
       "  </thead>\n",
       "  <tbody>\n",
       "    <tr>\n",
       "      <th>0</th>\n",
       "      <td>12</td>\n",
       "      <td>16.666667</td>\n",
       "      <td>0.003367</td>\n",
       "      <td>0.002886</td>\n",
       "      <td>0.002712</td>\n",
       "      <td>0.002618</td>\n",
       "      <td>0.002557</td>\n",
       "      <td>0.002515</td>\n",
       "    </tr>\n",
       "    <tr>\n",
       "      <th>1</th>\n",
       "      <td>8</td>\n",
       "      <td>25.000000</td>\n",
       "      <td>0.005051</td>\n",
       "      <td>0.004329</td>\n",
       "      <td>0.004068</td>\n",
       "      <td>0.003927</td>\n",
       "      <td>0.003836</td>\n",
       "      <td>0.003772</td>\n",
       "    </tr>\n",
       "    <tr>\n",
       "      <th>2</th>\n",
       "      <td>6</td>\n",
       "      <td>33.333333</td>\n",
       "      <td>0.006734</td>\n",
       "      <td>0.005772</td>\n",
       "      <td>0.005424</td>\n",
       "      <td>0.005235</td>\n",
       "      <td>0.005115</td>\n",
       "      <td>0.005029</td>\n",
       "    </tr>\n",
       "    <tr>\n",
       "      <th>3</th>\n",
       "      <td>5</td>\n",
       "      <td>40.000000</td>\n",
       "      <td>0.008081</td>\n",
       "      <td>0.006927</td>\n",
       "      <td>0.006508</td>\n",
       "      <td>0.006282</td>\n",
       "      <td>0.006138</td>\n",
       "      <td>0.006035</td>\n",
       "    </tr>\n",
       "    <tr>\n",
       "      <th>4</th>\n",
       "      <td>5</td>\n",
       "      <td>40.000000</td>\n",
       "      <td>0.008081</td>\n",
       "      <td>0.006927</td>\n",
       "      <td>0.006508</td>\n",
       "      <td>0.006282</td>\n",
       "      <td>0.006138</td>\n",
       "      <td>0.006035</td>\n",
       "    </tr>\n",
       "    <tr>\n",
       "      <th>5</th>\n",
       "      <td>4</td>\n",
       "      <td>50.000000</td>\n",
       "      <td>0.010102</td>\n",
       "      <td>0.008658</td>\n",
       "      <td>0.008135</td>\n",
       "      <td>0.007853</td>\n",
       "      <td>0.007672</td>\n",
       "      <td>0.007544</td>\n",
       "    </tr>\n",
       "  </tbody>\n",
       "</table>\n",
       "</div>"
      ],
      "text/plain": [
       "   n_Taylor         dh       h_1    h_1.17    h_1.24    h_1.29    h_1.32  \\\n",
       "0        12  16.666667  0.003367  0.002886  0.002712  0.002618  0.002557   \n",
       "1         8  25.000000  0.005051  0.004329  0.004068  0.003927  0.003836   \n",
       "2         6  33.333333  0.006734  0.005772  0.005424  0.005235  0.005115   \n",
       "3         5  40.000000  0.008081  0.006927  0.006508  0.006282  0.006138   \n",
       "4         5  40.000000  0.008081  0.006927  0.006508  0.006282  0.006138   \n",
       "5         4  50.000000  0.010102  0.008658  0.008135  0.007853  0.007672   \n",
       "\n",
       "     h_1.34  \n",
       "0  0.002515  \n",
       "1  0.003772  \n",
       "2  0.005029  \n",
       "3  0.006035  \n",
       "4  0.006035  \n",
       "5  0.007544  "
      ]
     },
     "execution_count": 52,
     "metadata": {},
     "output_type": "execute_result"
    }
   ],
   "source": [
    "#Model Parameters\n",
    "ModelMaxVel=3500                    #Maximum velocity (in m/s)\n",
    "ModelMinVel=2000                    #Minimum velocity (in m/s)\n",
    "MaxFrequency=10                     #Maximum frequency required (in Hz)\n",
    "\n",
    "n_Taylor=[12,8,6,5,5,4]                                                  #Spatial Taylor coefficients (unitless)\n",
    "dh_Taylor=np.zeros(len(n_Taylor))\n",
    "h_Taylor=[1,7/6,149/120,2161/1680,53089/40320,1187803/887040]            #Time Taylor coefficients (unitless)\n",
    "dt_Taylor=np.zeros([len(n_Taylor),len(h_Taylor)])\n",
    "#I generate a dataframe with dh and dt values using Taylor coefficients\n",
    "for n in range(len(n_Taylor)):\n",
    "    dh_Taylor[n]=ModelMinVel/(n_Taylor[n]*MaxFrequency)\n",
    "    for m in range(len(n_Taylor)):\n",
    "        dt_Taylor[n,m]=dh_Taylor[n]/(h_Taylor[m]*np.sqrt(2)*ModelMaxVel)\n",
    "d={'n_Taylor':n_Taylor,'dh':dh_Taylor}\n",
    "df_grid_Taylor = pd.DataFrame(data=d)\n",
    "\n",
    "for n in range(len(h_Taylor)):\n",
    "    df_grid_Taylor['h_'+str(np.round(h_Taylor[n],decimals=2))]=dt_Taylor[:,n]\n",
    "\n",
    "    \n",
    "df_grid_Taylor.head(n=len(n_Taylor))    "
   ]
  },
  {
   "cell_type": "code",
   "execution_count": 53,
   "id": "286cdff5",
   "metadata": {},
   "outputs": [
    {
     "data": {
      "text/html": [
       "<div>\n",
       "<style scoped>\n",
       "    .dataframe tbody tr th:only-of-type {\n",
       "        vertical-align: middle;\n",
       "    }\n",
       "\n",
       "    .dataframe tbody tr th {\n",
       "        vertical-align: top;\n",
       "    }\n",
       "\n",
       "    .dataframe thead th {\n",
       "        text-align: right;\n",
       "    }\n",
       "</style>\n",
       "<table border=\"1\" class=\"dataframe\">\n",
       "  <thead>\n",
       "    <tr style=\"text-align: right;\">\n",
       "      <th></th>\n",
       "      <th>n_Holberg</th>\n",
       "      <th>dh</th>\n",
       "      <th>h_1</th>\n",
       "      <th>h_1.18</th>\n",
       "      <th>h_1.28</th>\n",
       "      <th>h_1.35</th>\n",
       "      <th>h_1.39</th>\n",
       "      <th>h_1.42</th>\n",
       "    </tr>\n",
       "  </thead>\n",
       "  <tbody>\n",
       "    <tr>\n",
       "      <th>0</th>\n",
       "      <td>12.00</td>\n",
       "      <td>16.666667</td>\n",
       "      <td>0.003367</td>\n",
       "      <td>0.002842</td>\n",
       "      <td>0.002623</td>\n",
       "      <td>0.002502</td>\n",
       "      <td>0.002427</td>\n",
       "      <td>0.002376</td>\n",
       "    </tr>\n",
       "    <tr>\n",
       "      <th>1</th>\n",
       "      <td>8.32</td>\n",
       "      <td>24.038462</td>\n",
       "      <td>0.004857</td>\n",
       "      <td>0.004100</td>\n",
       "      <td>0.003784</td>\n",
       "      <td>0.003608</td>\n",
       "      <td>0.003500</td>\n",
       "      <td>0.003427</td>\n",
       "    </tr>\n",
       "    <tr>\n",
       "      <th>2</th>\n",
       "      <td>4.77</td>\n",
       "      <td>41.928721</td>\n",
       "      <td>0.008471</td>\n",
       "      <td>0.007151</td>\n",
       "      <td>0.006600</td>\n",
       "      <td>0.006294</td>\n",
       "      <td>0.006104</td>\n",
       "      <td>0.005978</td>\n",
       "    </tr>\n",
       "    <tr>\n",
       "      <th>3</th>\n",
       "      <td>3.69</td>\n",
       "      <td>54.200542</td>\n",
       "      <td>0.010950</td>\n",
       "      <td>0.009244</td>\n",
       "      <td>0.008532</td>\n",
       "      <td>0.008136</td>\n",
       "      <td>0.007891</td>\n",
       "      <td>0.007727</td>\n",
       "    </tr>\n",
       "    <tr>\n",
       "      <th>4</th>\n",
       "      <td>3.19</td>\n",
       "      <td>62.695925</td>\n",
       "      <td>0.012666</td>\n",
       "      <td>0.010692</td>\n",
       "      <td>0.009869</td>\n",
       "      <td>0.009411</td>\n",
       "      <td>0.009128</td>\n",
       "      <td>0.008939</td>\n",
       "    </tr>\n",
       "    <tr>\n",
       "      <th>5</th>\n",
       "      <td>2.91</td>\n",
       "      <td>68.728522</td>\n",
       "      <td>0.013885</td>\n",
       "      <td>0.011721</td>\n",
       "      <td>0.010818</td>\n",
       "      <td>0.010317</td>\n",
       "      <td>0.010006</td>\n",
       "      <td>0.009799</td>\n",
       "    </tr>\n",
       "  </tbody>\n",
       "</table>\n",
       "</div>"
      ],
      "text/plain": [
       "   n_Holberg         dh       h_1    h_1.18    h_1.28    h_1.35    h_1.39  \\\n",
       "0      12.00  16.666667  0.003367  0.002842  0.002623  0.002502  0.002427   \n",
       "1       8.32  24.038462  0.004857  0.004100  0.003784  0.003608  0.003500   \n",
       "2       4.77  41.928721  0.008471  0.007151  0.006600  0.006294  0.006104   \n",
       "3       3.69  54.200542  0.010950  0.009244  0.008532  0.008136  0.007891   \n",
       "4       3.19  62.695925  0.012666  0.010692  0.009869  0.009411  0.009128   \n",
       "5       2.91  68.728522  0.013885  0.011721  0.010818  0.010317  0.010006   \n",
       "\n",
       "     h_1.42  \n",
       "0  0.002376  \n",
       "1  0.003427  \n",
       "2  0.005978  \n",
       "3  0.007727  \n",
       "4  0.008939  \n",
       "5  0.009799  "
      ]
     },
     "execution_count": 53,
     "metadata": {},
     "output_type": "execute_result"
    }
   ],
   "source": [
    "#I generate a dataframe with dh and dt values using Holberg coefficients\n",
    "n_Holberg=[12,8.32,4.77,3.69,3.19,2.91]\n",
    "dh_Holberg=np.zeros(len(n_Holberg))\n",
    "h_Holberg=[1,1.1846146,1.283482,1.345927,1.387660,1.417065]\n",
    "dt_Holberg=np.zeros([len(n_Holberg),len(h_Holberg)])\n",
    "for n in range(len(n_Holberg)):\n",
    "    dh_Holberg[n]=ModelMinVel/(n_Holberg[n]*MaxFrequency)\n",
    "    for m in range(len(n_Holberg)):\n",
    "        dt_Holberg[n,m]=dh_Holberg[n]/(h_Holberg[m]*np.sqrt(2)*ModelMaxVel)\n",
    "d={'n_Holberg':n_Holberg,'dh':dh_Holberg}\n",
    "df_grid_Holberg = pd.DataFrame(data=d)\n",
    "\n",
    "for n in range(len(h_Holberg)):\n",
    "    df_grid_Holberg['h_'+str(np.round(h_Holberg[n],decimals=2))]=dt_Holberg[:,n]\n",
    "\n",
    "    \n",
    "df_grid_Holberg.head(n=len(n_Holberg))  "
   ]
  },
  {
   "cell_type": "code",
   "execution_count": 54,
   "id": "85bc5757",
   "metadata": {},
   "outputs": [
    {
     "name": "stdout",
     "output_type": "stream",
     "text": [
      "Grid has the following dimensions. X:108,Y:108 and a total of 108 steps.\n"
     ]
    }
   ],
   "source": [
    "#Once I define my dh and dt for the model, I build my grid\n",
    "dh_model=50                                       #model grid size (in m)\n",
    "dt_model=0.006                                    #time step (in s)\n",
    "#Then I define the dimensions of the grid\n",
    "X_length=5400                                     #grid length along X-direction   (in m)\n",
    "Y_length=5400                                     #grid length along Y-direction   (in m)\n",
    "T_length=5                                        #simulation time                 (in s)\n",
    "#And then I can create my grid\n",
    "NX=int(np.round(X_length/dh_model))                    #grid size along X-direction     (number of cells)\n",
    "NY=int(np.round(Y_length/dh_model))                    #grid size along Y-direction     (number of cells)\n",
    "NT=int(np.round(T_length/dt_model))                    #Total number of steps\n",
    "\n",
    "print('Grid has the following dimensions. X:'+str(np.round(NX))+',Y:'+str(np.round(NY))+' and a total of '+str(np.round(NY))+' steps.')"
   ]
  },
  {
   "cell_type": "markdown",
   "id": "7a48cd19",
   "metadata": {},
   "source": [
    "### 2. Defining the model\n",
    "Once I generate the grid, I generate a base model using a single layer with the initial parametrical values: P-wave model, S-wave model, Density model, P-wave attenuation model and S-wave attenuation model.\n",
    "- Each layer has a constant value for each parameter\n",
    "- Every subsequent layer replaces the preexisting value of parameter within the layer grid\n",
    "- Layer input is done through grid coordinates range and parameters"
   ]
  },
  {
   "cell_type": "code",
   "execution_count": 55,
   "id": "f3501d45",
   "metadata": {},
   "outputs": [
    {
     "data": {
      "image/png": "[encoded data removed]",
      "text/plain": [
       "<Figure size 432x288 with 10 Axes>"
      ]
     },
     "metadata": {
      "needs_background": "light"
     },
     "output_type": "display_data"
    }
   ],
   "source": [
    "#Base layer\n",
    "#Define parameters:\n",
    "#P-wave velocity (m/s)\n",
    "Vp=3500\n",
    "#S-wave velocity (m/s)\n",
    "Vs=2000\n",
    "#Density (kg/m^3)\n",
    "Rho=2000\n",
    "#Vp-wave attenuation (unitless)\n",
    "Qp=0\n",
    "#Vs-wave attenuation (unitless)\n",
    "Qs=0\n",
    "\n",
    "#Grid generation and population\n",
    "xx_grid, yy_grid = np.meshgrid(np.linspace(0,NX-1,NX),np.linspace(0,NY-1,NY))\n",
    "zz_Vp=np.ones([NX,NY])*Vp\n",
    "zz_Vs=np.ones([NX,NY])*Vs\n",
    "zz_Rho=np.ones([NX,NY])*Rho\n",
    "zz_Qp=np.ones([NX,NY])*Qp\n",
    "zz_Qs=np.ones([NX,NY])*Qs\n",
    "\n",
    "plotmodels(xx_grid,yy_grid,zz_Vp,zz_Vs,zz_Rho,zz_Qp,zz_Qs)"
   ]
  },
  {
   "cell_type": "markdown",
   "id": "5073dd59",
   "metadata": {},
   "source": [
    "Time to add layers\n",
    "For every layer is added, the code below can be copied and pasted."
   ]
  },
  {
   "cell_type": "code",
   "execution_count": 56,
   "id": "bae1324a",
   "metadata": {},
   "outputs": [
    {
     "name": "stdout",
     "output_type": "stream",
     "text": [
      "Layer ranges from 0 to 107 along X axis\n",
      "and from 20 to 39 along Y axis\n"
     ]
    }
   ],
   "source": [
    "#Grid location (from distance to grid points)\n",
    "Distxfrom=0\n",
    "Distxto=5400\n",
    "Distyfrom=1000\n",
    "Distyto=2000\n",
    "\n",
    "Gridxfrom=int(np.round(Distxfrom/dh_model))\n",
    "Gridxto=int(np.round(Distxto/dh_model)-1) \n",
    "Gridyfrom=int(np.round(Distyfrom/dh_model)) \n",
    "Gridyto=int(np.round(Distyto/dh_model)-1)\n",
    "\n",
    "print('Layer ranges from '+str(Gridxfrom)+' to '+str(Gridxto)+' along X axis')\n",
    "print('and from '+str(Gridyfrom)+' to '+str(Gridyto)+' along Y axis')"
   ]
  },
  {
   "cell_type": "code",
   "execution_count": 57,
   "id": "8fc2f190",
   "metadata": {},
   "outputs": [
    {
     "data": {
      "image/png": "[encoded data removed]",
      "text/plain": [
       "<Figure size 432x288 with 10 Axes>"
      ]
     },
     "metadata": {
      "needs_background": "light"
     },
     "output_type": "display_data"
    }
   ],
   "source": [
    "#Layer parameters\n",
    "#P-wave velocity (m/s)\n",
    "Vp=5000\n",
    "#S-wave velocity (m/s)\n",
    "Vs=3000\n",
    "#Density (kg/m^3)\n",
    "Rho=3000\n",
    "#Vp-wave attenuation (unitless)\n",
    "Qp=5000000\n",
    "#Vs-wave attenuation (unitless)\n",
    "Qs=5000000\n",
    "\n",
    "for n in range(NX):\n",
    "    for m in range(NY):\n",
    "        if n>=Gridxfrom and n<=Gridxto and m>=Gridyfrom and m<=Gridyto:\n",
    "            zz_Vp[n,m]=Vp\n",
    "            zz_Vs[n,m]=Vs\n",
    "            zz_Rho[n,m]=Rho\n",
    "            zz_Qp[n,m]=Qp\n",
    "            zz_Qs[n,m]=Qs\n",
    "\n",
    "plotmodels(xx_grid,yy_grid,zz_Vp,zz_Vs,zz_Rho,zz_Qp,zz_Qs)"
   ]
  },
  {
   "cell_type": "markdown",
   "id": "270b7966",
   "metadata": {},
   "source": [
    "### 3. Exporting the models\n",
    "Each model is imported as a different file with extension .vp, .vs, .rho, .qp, and .qs for P-wave velocity, S-wave velocity, Density, P-wave attenuation, and S-wave attenuation, respectively"
   ]
  },
  {
   "cell_type": "code",
   "execution_count": 58,
   "id": "a3b27a61",
   "metadata": {},
   "outputs": [],
   "source": [
    "os.chdir(\"C:/Users/gg27788/Documents/Python Scripts/SOFI 2D - Input Builders\") "
   ]
  },
  {
   "cell_type": "code",
   "execution_count": 59,
   "id": "e1fd0587",
   "metadata": {},
   "outputs": [],
   "source": [
    "file=open('test.vp','wb')\n",
    "np.save(file,zz_Vp.astype('float32'))\n",
    "file.close()\n",
    "file=open('test.vs','wb')\n",
    "np.save(file,zz_Vs.astype('float32'))\n",
    "file.close()\n",
    "file=open('test.rho','wb')\n",
    "np.save(file,zz_Rho.astype('float32'))\n",
    "file.close()\n",
    "file=open('test.qp','wb')\n",
    "np.save(file,zz_Qp.astype('float32'))\n",
    "file.close()\n",
    "file=open('test.qs','wb')\n",
    "np.save(file,zz_Qs.astype('float32'))\n",
    "file.close()"
   ]
  },
  {
   "cell_type": "markdown",
   "id": "2fce66de",
   "metadata": {},
   "source": [
    "### 4. Designing of JSON parameter file\n",
    "Along this section I interactively set up json file parameters, as described in the SOFI2D guide.\n",
    "\n",
    "#### 4.1 Domain\n",
    "\n",
    "SOFI2D allows for multiprocessor processing by dividing the domain into subgrids.\n",
    "The total number of processors must be specified when starting the program, defining NP:\n",
    "\n",
    "mpirun - np <NP> ../bin/sofi2D < sofi2D.json\n",
    "                                            \n",
    "Parameters are:\n",
    "- NPROCX : number of processors in x-direction\n",
    "- NPROCY : number of processors in y-direction\n",
    "\n",
    "If the total number of processors in sofi2D.json (calculated as NPROCX*NPROCY) and the command line differ the program will terminate with an error message"
   ]
  },
  {
   "cell_type": "code",
   "execution_count": 60,
   "id": "f2a1c763",
   "metadata": {},
   "outputs": [
    {
     "data": {
      "image/png": "[encoded data removed]",
      "text/plain": [
       "<Figure size 432x288 with 2 Axes>"
      ]
     },
     "metadata": {
      "needs_background": "light"
     },
     "output_type": "display_data"
    }
   ],
   "source": [
    "NPROCX=4\n",
    "NPROCY=2\n",
    "\n",
    "stepx=NX/NPROCX\n",
    "stepy=NY/NPROCY\n",
    "\n",
    "im1 = plt.contourf(xx_grid, yy_grid, zz_Vp,500,cmap=plt.cm.jet,norm=None)\n",
    "plt.title('Domain decomposition')\n",
    "plt.xlabel('x (grid number)'); plt.ylabel('y (grid number)')\n",
    "cbar = plt.colorbar(im1, orientation = 'vertical')\n",
    "cbar.set_label(\"P-wave velocity (m/s)\")\n",
    "for n in range(NPROCX):\n",
    "    plt.plot([n*stepx,n*stepx],[0,NY-1],'black',linestyle='dashed')\n",
    "for m in range(NPROCY):\n",
    "    plt.plot([0,NX-1],[m*stepy,m*stepy],'black',linestyle='dashed')\n",
    "\n",
    "plt.subplots_adjust(left=0.0, bottom=0.0, right=1.0, top=1, wspace=0.2, hspace=0.2)"
   ]
  },
  {
   "cell_type": "markdown",
   "id": "61a8a357",
   "metadata": {},
   "source": [
    "##### JSON File"
   ]
  },
  {
   "cell_type": "code",
   "execution_count": 61,
   "id": "5aa6ca12",
   "metadata": {},
   "outputs": [],
   "source": [
    "json_output={'Domain Decomposition':'comment','NPROCX':NPROCX,'NPROCY':NPROCY}"
   ]
  },
  {
   "cell_type": "markdown",
   "id": "06f0474a",
   "metadata": {},
   "source": [
    "#### 4.2 Order of the FD Operator\n",
    "In this step I define the order of the FD operator.\n",
    "This section is related to section 1., where I defined the grid based on Taylor and Holberg operators.\n",
    "Parameters are:\n",
    "- FDORDER:Order of ssg FD coefficients (values: 2, 4, ..., 12)\n",
    "- FDORDER_TIME: Order of temporal FD coefficients (values: 2 and 4)\n",
    "- MAXRELERROR: Maximum relative group velocity error E and minimum number of grid points per shortest wavelengths where:\n",
    "      - 0 --> Taylor coefficients\n",
    "      - 1 --> Holberg coefficients\n",
    "      - E=0.5%\n",
    "      - E=1.0%\n",
    "      - E=3.0%"
   ]
  },
  {
   "cell_type": "code",
   "execution_count": 62,
   "id": "f2364b4e",
   "metadata": {},
   "outputs": [],
   "source": [
    "FDORDER=2\n",
    "FDORDER_TIME=2\n",
    "MAXRELERROR=1"
   ]
  },
  {
   "cell_type": "markdown",
   "id": "f0b98f8f",
   "metadata": {},
   "source": [
    "##### JSON File Update"
   ]
  },
  {
   "cell_type": "code",
   "execution_count": 63,
   "id": "d72977c3",
   "metadata": {},
   "outputs": [],
   "source": [
    "json_update={'FD order':'comment','FDORDER':FDORDER,'FDORDER_TIME':FDORDER_TIME,'MAXRELERROR':MAXRELERROR}\n",
    "json_output.update(json_update)"
   ]
  },
  {
   "cell_type": "markdown",
   "id": "09f46b53",
   "metadata": {},
   "source": [
    "#### 4.3 Discretization\n",
    "This step import parameters from sections 1 and 2 and checks stability.\n",
    "Outputs are the initial parameters we defined first:\n",
    "- NX: number of grid points in the x-direction\n",
    "- NY: number of grid points in the y-direction\n",
    "- DH: distance between grid points\n",
    "\n",
    "I repeat the same stability check than the one performed by the code."
   ]
  },
  {
   "cell_type": "code",
   "execution_count": 64,
   "id": "22100a1c",
   "metadata": {},
   "outputs": [
    {
     "name": "stdout",
     "output_type": "stream",
     "text": [
      "Grid has the following dimensions. X:108,Y:108 with a grid distance 50\n",
      "Minimum grid size required for stability: 25.0 vs 50\n"
     ]
    }
   ],
   "source": [
    "print('Grid has the following dimensions. X:'+str(np.round(NX))+',Y:'+str(np.round(NY))+' with a grid distance '+str(np.round(dh_model)))\n",
    "vmin=2000\n",
    "fc=5\n",
    "N=8\n",
    "dh_min=vmin/(2*fc*N)\n",
    "print('Minimum grid size required for stability: '+str(dh_min)+' vs '+str(dh_model))"
   ]
  },
  {
   "cell_type": "markdown",
   "id": "98712290",
   "metadata": {},
   "source": [
    "##### JSON Update"
   ]
  },
  {
   "cell_type": "code",
   "execution_count": 65,
   "id": "05289972",
   "metadata": {},
   "outputs": [],
   "source": [
    "json_update={'2-D Grid':'comment','NX':NX,'NY':NY,'DH':dh_model}\n",
    "json_output.update(json_update)"
   ]
  },
  {
   "cell_type": "markdown",
   "id": "08a53783",
   "metadata": {},
   "source": [
    "#### 4.4 Time stepping\n",
    "This step i double check that my time stepping is compliant with the minimum value\n",
    "Parameters are:\n",
    "- TIME: Experiment time\n",
    "- DT: Time stepping interval"
   ]
  },
  {
   "cell_type": "code",
   "execution_count": 66,
   "id": "7775c386",
   "metadata": {},
   "outputs": [
    {
     "name": "stdout",
     "output_type": "stream",
     "text": [
      "Minimum step size required for stability: 0.006060915267313264 vs 0.006\n"
     ]
    }
   ],
   "source": [
    "h_value=7/6\n",
    "vmax=5000\n",
    "dt_min=dh_model/(h_value*np.sqrt(2)*vmax)\n",
    "print('Minimum step size required for stability: '+str(dt_min)+' vs '+str(dt_model))"
   ]
  },
  {
   "cell_type": "markdown",
   "id": "42ade8da",
   "metadata": {},
   "source": [
    "##### JSON Update"
   ]
  },
  {
   "cell_type": "code",
   "execution_count": 67,
   "id": "4ad8340f",
   "metadata": {},
   "outputs": [],
   "source": [
    "json_update={'Time Stepping':'commnent','TIME':T_length,'DT':dt_model}\n",
    "json_output.update(json_update)"
   ]
  },
  {
   "cell_type": "markdown",
   "id": "29beace4",
   "metadata": {},
   "source": [
    "#### 4.5 Source\n",
    "In this section I define the shape, source type and location of sources.\n",
    "Parameters are:\n",
    "- SOURCE_SHAPE: Shape of source signal (Ricker=1, Fumue=2, using SIGNAL_FILE=3, sinus^3=4)\n",
    "- SOURCE_TYPE: Point source (explosive=1, force in x=2, force in y=3)\n",
    "- PLANE_WAVE_DEPTH: Depth of plane wave excitation in meters (if no=0)\n",
    "- PLANE_WAVE_ANGLE: Dip of plane wave from vertical (in deg)\n",
    "- TS: Duration of source signal\n",
    "- SIGNAL_FILE: External signal file name\n",
    "- SRCREC: Read source positions from external SOURCE_FILE (yes=1)\n",
    "- SOURCE_FILE: File with source locations\n",
    "- RUN_MULTIPLE_SHOTS: Multiple shots modeled simultaneously (0) or individually (1)\n",
    "\n",
    "I subdivide this interval into Source Shape and Source Type/Location sections\n",
    "\n",
    "##### Source Shape\n",
    "Along this section I define the source shape. In case I use a plane wave, then SOURCE_SHAPE applies to the experiment, otherwise it is defined for each source in the source file.\n"
   ]
  },
  {
   "cell_type": "code",
   "execution_count": 68,
   "id": "0db2dba8",
   "metadata": {},
   "outputs": [
    {
     "data": {
      "image/png": "[encoded data removed]",
      "text/plain": [
       "<Figure size 432x288 with 1 Axes>"
      ]
     },
     "metadata": {
      "needs_background": "light"
     },
     "output_type": "display_data"
    }
   ],
   "source": [
    "#Source shapes\n",
    "TS=1                #Duration of source signal (s)\n",
    "FC=5                #Central frequency (Hz)\n",
    "TD=0                #Time delay (s)\n",
    "#Defining the time vector\n",
    "t=np.arange(0,TS,dt_model)\n",
    "#Ricker wavelet\n",
    "tau=np.pi*(t-1.5/FC-TD)/(1/FC)\n",
    "r=(1-2*tau**2)*np.exp(-tau**2)\n",
    "#Fuchs-Muller wavelet\n",
    "fm=np.zeros(len(t))\n",
    "scube=np.zeros(len(t))\n",
    "for n in range(len(t)):\n",
    "    if n*dt_model>=TD and n*dt_model<=TD+1/FC:\n",
    "        fm[n]=np.sin(2*np.pi*(n*dt_model-TD)*FC)-0.5*np.sin(4*np.pi*(n*dt_model-TD)*FC)\n",
    "    else:\n",
    "        fm[n]=0\n",
    "#Sin^3 wavelet\n",
    "for n in range(len(t)):\n",
    "    if n*dt_model>=TD and n*dt_model<=TD+1/FC:\n",
    "        scube[n]=0.075*np.pi*FC*(np.sin(np.pi*(n*dt_model-TD)*FC))**3\n",
    "    else:\n",
    "        scube[n]=0\n",
    "\n",
    "plt.plot(t,r,'black',label='Ricker')\n",
    "plt.plot(t,fm,'blue',label='Fuchs-Muller')\n",
    "plt.plot(t,scube,'red',label='Sin^3')\n",
    "plt.legend(); plt.grid()\n",
    "plt.title('Source Shapes')\n",
    "plt.xlabel('Time (s)'); plt.ylabel('Amplitude (-)')\n",
    "plt.subplots_adjust(left=0.0, bottom=0.0, right=1.0, top=1, wspace=0.2, hspace=0.2)"
   ]
  },
  {
   "cell_type": "code",
   "execution_count": 69,
   "id": "315ddd23",
   "metadata": {},
   "outputs": [],
   "source": [
    "SOURCE_SHAPE=1\n",
    "SIGNAL_FILE='signal_mseis.tz'\n",
    "SRCREC=1\n",
    "SOURCE_FILE='./sources/source.dat'\n",
    "RUN_MULTIPLE_SHOTS=0"
   ]
  },
  {
   "cell_type": "markdown",
   "id": "79e46a06",
   "metadata": {},
   "source": [
    "##### Source Type/Location\n",
    "###### Plane wave\n",
    "\n",
    "Plane waves are generated from a line source defined all along the domain.\n",
    "In case a plane wave is used, the following parameters are required:\n",
    "- PLANE_WAVE_DEPTH: Depth of plane wave excitation in meters (if no=0)\n",
    "- PLANE_WAVE_ANGLE: Dip of plane wave from vertical (in deg)\n",
    "Also, we recommend to set this parameter:\n",
    "- SRCREC: Read source positions from external SOURCE_FILE (no=0)\n",
    "\n",
    "The following code allows to interactively see the location and propagation direction of the plane wave"
   ]
  },
  {
   "cell_type": "code",
   "execution_count": 70,
   "id": "5fce0802",
   "metadata": {},
   "outputs": [
    {
     "data": {
      "image/png": "[encoded data removed]",
      "text/plain": [
       "<Figure size 432x288 with 4 Axes>"
      ]
     },
     "metadata": {
      "needs_background": "light"
     },
     "output_type": "display_data"
    }
   ],
   "source": [
    "PLANE_WAVE_DEPTH=5                       #in m\n",
    "PLANE_WAVE_ANGLE=89                       #in deg\n",
    "TS=0.2\n",
    "#The line source is defined as a slope y=a+bx where a=PLANE_WAVE_DEPTH and b=tan(PLANE_WAVE_ANGLE)\n",
    "x_bottom=(Y_length-PLANE_WAVE_DEPTH)/np.tan(PLANE_WAVE_ANGLE*np.pi/180)\n",
    "\n",
    "plt.subplot(1,2,1)\n",
    "im1 = plt.contourf(xx_grid, yy_grid, zz_Vp,500,cmap=plt.cm.jet,norm=None)\n",
    "plt.plot([0,int(np.round(x_bottom/dh_model))],[int(np.round(PLANE_WAVE_DEPTH/dh_model)),int(np.round(Y_length/dh_model))],'red',label='Plane wave source')\n",
    "plt.xlim(0,NX-1) ; plt.ylim(0,NY-1)\n",
    "plt.legend()\n",
    "plt.title('Plane wave - Line')\n",
    "plt.xlabel('x (grid number)'); plt.ylabel('y (grid number)')\n",
    "cbar = plt.colorbar(im1, orientation = 'vertical')\n",
    "cbar.set_label(\"P-wave velocity (m/s)\")\n",
    "\n",
    "y_source=np.linspace(0,NY-1,NY-1)\n",
    "x_source=np.linspace(0,NY-1,NY-1)\n",
    "for n in range(NY-1):\n",
    "    x_source[n]=int(np.round((NY-int(np.round(PLANE_WAVE_DEPTH/dh_model)))/np.tan(PLANE_WAVE_ANGLE*np.pi/180)/dh_model))\n",
    "plt.subplot(1,2,2)\n",
    "im1 = plt.contourf(xx_grid, yy_grid, zz_Vp,500,cmap=plt.cm.jet,norm=None)\n",
    "plt.scatter(x_source,y_source, color='black',label='Source Location')\n",
    "plt.xlim(0,NX-1) ; plt.ylim(0,NY-1)\n",
    "plt.legend()\n",
    "plt.title('Plane wave - Grid')\n",
    "plt.xlabel('x (grid number)'); plt.ylabel('y (grid number)')\n",
    "cbar = plt.colorbar(im1, orientation = 'vertical')\n",
    "cbar.set_label(\"P-wave velocity (m/s)\")\n",
    "\n",
    "plt.subplots_adjust(left=0.0, bottom=0.0, right=2.0, top=1, wspace=0.2, hspace=0.2)"
   ]
  },
  {
   "cell_type": "markdown",
   "id": "a0440c13",
   "metadata": {},
   "source": [
    "##### Point sources\n",
    "In this section I generate a single set of point sources defined from a line vector.\n",
    "This definition requires the generation of an ASCII file (SOURCE_FILE). In the JSON file, the following parameters are required:\n",
    "- PLANE_WAVE_DEPTH: 0 (Recommended)\n",
    "- SRCREC: 1\n",
    "- SOURCE_FILE: './sources/source.dat'\n",
    "\n",
    "SOURCE_FILE parameters are:\n",
    "- XSRC: x-coordinate of a source point (in m)\n",
    "- YSRC: y-coordinate of a source point (in m)\n",
    "- TD: excitation time-delay for the source point (in s)\n",
    "- FC: center frequency of the source signal (in Hz)\n",
    "- AMP: maximum amplitude of the source signal\n",
    "- SOURCE_AZIMUTH (Optional): angle between y- and x- direction (activated if SOURCE_TYPE=4)\n",
    "- SOURCE_TYPE (Optional): source type (explosive=1, force in x=2, force in y=3, SOURCE_AZIMUTH=4). If this value is set, SOURCE_TYPE in here overrides SOURCE_TYPE from the JSON file\n",
    "\n",
    "\n"
   ]
  },
  {
   "cell_type": "code",
   "execution_count": 71,
   "id": "07ddf0a9",
   "metadata": {},
   "outputs": [
    {
     "data": {
      "image/png": "[encoded data removed]",
      "text/plain": [
       "<Figure size 432x288 with 2 Axes>"
      ]
     },
     "metadata": {
      "needs_background": "light"
     },
     "output_type": "display_data"
    }
   ],
   "source": [
    "#Define coordinates for source\n",
    "x_start=2000\n",
    "x_end=2000\n",
    "y_start=2000\n",
    "y_end=2000\n",
    "TD=0\n",
    "FC=10\n",
    "AMP=1\n",
    "SOURCE_AZIMUTH=0\n",
    "SOURCE_TYPE=1\n",
    "[XSRC_grid,YSRC_grid]=SRPlacement(dh_model,x_start,x_end,y_start,y_end)\n",
    "YSRC=YSRC_grid*dh_model\n",
    "XSRC=XSRC_grid*dh_model\n",
    "im1 = plt.contourf(xx_grid, yy_grid, zz_Vp,500,cmap=plt.cm.jet,norm=None)\n",
    "plt.scatter(XSRC_grid,YSRC_grid, color='black',label='Source Location')\n",
    "plt.xlim(0,NX-1) ; plt.ylim(0,NY-1)\n",
    "plt.legend()\n",
    "plt.title('Plane wave - Line')\n",
    "plt.xlabel('x (grid number)'); plt.ylabel('y (grid number)')\n",
    "cbar = plt.colorbar(im1, orientation = 'vertical')\n",
    "cbar.set_label(\"P-wave velocity (m/s)\")"
   ]
  },
  {
   "cell_type": "markdown",
   "id": "404bb924",
   "metadata": {},
   "source": [
    "##### Writing SOURCEFILE"
   ]
  },
  {
   "cell_type": "code",
   "execution_count": 72,
   "id": "e632a32c",
   "metadata": {},
   "outputs": [],
   "source": [
    "if isinstance(XSRC,list)==True:\n",
    "    sourceoutput=np.zeros([len(YSRC),7])\n",
    "    for n in range(len(YSRC)):\n",
    "        sourceoutput[n,0]=XSRC[n]\n",
    "        sourceoutput[n,1]=YSRC[n]\n",
    "        sourceoutput[n,2]=TD\n",
    "        sourceoutput[n,3]=FC\n",
    "        sourceoutput[n,4]=AMP\n",
    "        sourceoutput[n,5]=SOURCE_AZIMUTH\n",
    "        sourceoutput[n,6]=SOURCE_TYPE\n",
    "else:\n",
    "    sourceoutput=np.zeros([1,7])\n",
    "    sourceoutput[0,0]=XSRC\n",
    "    sourceoutput[0,1]=YSRC\n",
    "    sourceoutput[0,2]=TD\n",
    "    sourceoutput[0,3]=FC\n",
    "    sourceoutput[0,4]=AMP\n",
    "    sourceoutput[0,5]=SOURCE_AZIMUTH\n",
    "    sourceoutput[0,6]=SOURCE_TYPE\n",
    "file=open('source.dat','w')\n",
    "np.savetxt(file,sourceoutput.astype('float16'))\n",
    "file.close()"
   ]
  },
  {
   "cell_type": "markdown",
   "id": "02c11645",
   "metadata": {},
   "source": [
    "##### JSON Update"
   ]
  },
  {
   "cell_type": "code",
   "execution_count": 73,
   "id": "fdf76be9",
   "metadata": {},
   "outputs": [],
   "source": [
    "json_update={'Source':'comment','SOURCE_SHAPE':SOURCE_SHAPE,'SIGNAL_FILE':SIGNAL_FILE,'SOURCE_TYPE':SOURCE_TYPE,'SRCREC':SRCREC,'SOURCE_FILE':SOURCE_FILE,'RUN_MULTIPLE_SHOTS':RUN_MULTIPLE_SHOTS,'PLANE_WAVE_DEPTH':PLANE_WAVE_DEPTH,'PLANE_WAVE_ANGLE':PLANE_WAVE_ANGLE,'TS':TS}\n",
    "json_output.update(json_update)"
   ]
  },
  {
   "cell_type": "markdown",
   "id": "73f5bcf2",
   "metadata": {},
   "source": [
    "#### 4.6 Generation of models"
   ]
  },
  {
   "cell_type": "code",
   "execution_count": 74,
   "id": "51e1775b",
   "metadata": {},
   "outputs": [],
   "source": [
    "READMOD=1\n",
    "MFILE='model/test'\n",
    "WRITE_MODELFILES=0"
   ]
  },
  {
   "cell_type": "markdown",
   "id": "05ed2151",
   "metadata": {},
   "source": [
    "##### JSON Update"
   ]
  },
  {
   "cell_type": "code",
   "execution_count": 75,
   "id": "549de7d1",
   "metadata": {},
   "outputs": [],
   "source": [
    "json_update={'READMOD':READMOD,'MFILE':MFILE,'WRITE_MODELFILES':WRITE_MODELFILES}\n",
    "json_output.update(json_update)"
   ]
  },
  {
   "cell_type": "markdown",
   "id": "0253e3ab",
   "metadata": {},
   "source": [
    "#### 4.7 Q-approximation"
   ]
  },
  {
   "cell_type": "code",
   "execution_count": 76,
   "id": "5bdf6e7f",
   "metadata": {},
   "outputs": [],
   "source": [
    "L=0\n",
    "FL1=5\n",
    "TAU=0.00001"
   ]
  },
  {
   "cell_type": "markdown",
   "id": "40c129e4",
   "metadata": {},
   "source": [
    "##### JSON Update"
   ]
  },
  {
   "cell_type": "code",
   "execution_count": 77,
   "id": "9edef30f",
   "metadata": {},
   "outputs": [],
   "source": [
    "json_update={'L':L,'FL1':FL1,'TAU':TAU}\n",
    "json_output.update(json_update)"
   ]
  },
  {
   "cell_type": "markdown",
   "id": "c2ecce62",
   "metadata": {},
   "source": [
    "#### 4.8 Boundary conditions"
   ]
  },
  {
   "cell_type": "code",
   "execution_count": 78,
   "id": "41a77f6e",
   "metadata": {},
   "outputs": [],
   "source": [
    "FREE_SURF=1\n",
    "BOUNDARY=0\n",
    "FW=10\n",
    "ABS_TYPE=1\n",
    "NPOWER= 4\n",
    "K_MAX_CPML=1\n",
    "VPPML=3500\n",
    "FPML=5\n",
    "DAMPING=8"
   ]
  },
  {
   "cell_type": "markdown",
   "id": "794f1ae3",
   "metadata": {},
   "source": [
    "##### JSON Update"
   ]
  },
  {
   "cell_type": "code",
   "execution_count": 79,
   "id": "e6676b4e",
   "metadata": {},
   "outputs": [],
   "source": [
    "json_update={'FREE_SURF':FREE_SURF,'BOUNDARY':BOUNDARY,'FW':FW,'ABS_TYPE':ABS_TYPE,'NPOWER':NPOWER,'K_MAX_CPML':K_MAX_CPML,'VPPML':VPPML,'FPML':FPML,'DAMPING':DAMPING}\n",
    "json_output.update(json_update)"
   ]
  },
  {
   "cell_type": "markdown",
   "id": "dcbe3885",
   "metadata": {},
   "source": [
    "#### 4.9 Wavefield snapshots"
   ]
  },
  {
   "cell_type": "code",
   "execution_count": 80,
   "id": "9fd2b7f6",
   "metadata": {},
   "outputs": [],
   "source": [
    "SNAP=4\n",
    "TSNAP1=6.6e-3\n",
    "TSNAP2=4.8\n",
    "TSNAPINC=0.2\n",
    "IDX=1\n",
    "IDY=1\n",
    "SNAP_FORMAT=3\n",
    "SNAP_FILE='./snap/test'"
   ]
  },
  {
   "cell_type": "markdown",
   "id": "73a498d0",
   "metadata": {},
   "source": [
    "##### JSON Update"
   ]
  },
  {
   "cell_type": "code",
   "execution_count": 81,
   "id": "1ba4e9c6",
   "metadata": {},
   "outputs": [],
   "source": [
    "json_update={'SNAP':SNAP,'TSNAP1':TSNAP1,'TSNAP2':TSNAP2,'TSNAPINC':TSNAPINC,'IDX':IDX,'IDY':IDY,'SNAP_FORMAT':SNAP_FORMAT,'SNAP_FILE':SNAP_FILE}\n",
    "json_output.update(json_update)"
   ]
  },
  {
   "cell_type": "markdown",
   "id": "e98976c9",
   "metadata": {},
   "source": [
    "#### 4.10 Receivers\n",
    "Receivers setup"
   ]
  },
  {
   "cell_type": "code",
   "execution_count": 82,
   "id": "4af8c1c5",
   "metadata": {},
   "outputs": [
    {
     "data": {
      "image/png": "[encoded data removed]",
      "text/plain": [
       "<Figure size 432x288 with 2 Axes>"
      ]
     },
     "metadata": {
      "needs_background": "light"
     },
     "output_type": "display_data"
    }
   ],
   "source": [
    "x_start=4000\n",
    "x_end=5000\n",
    "y_start=4000\n",
    "y_end=5000\n",
    "\n",
    "[XREC_grid,YREC_grid]=SRPlacement(dh_model,x_start,x_end,y_start,y_end)\n",
    "YREC=YREC_grid*dh_model\n",
    "XREC=XREC_grid*dh_model\n",
    "im1 = plt.contourf(xx_grid, yy_grid, zz_Vp,500,cmap=plt.cm.jet,norm=None)\n",
    "plt.scatter(XSRC_grid,YSRC_grid, color='black',label='Source Location')\n",
    "plt.scatter(XREC_grid,YREC_grid, color='white',label='Receiver Location')\n",
    "plt.xlim(0,NX-1) ; plt.ylim(0,NY-1)\n",
    "plt.legend()\n",
    "plt.title('Plane wave - Line')\n",
    "plt.xlabel('x (grid number)'); plt.ylabel('y (grid number)')\n",
    "cbar = plt.colorbar(im1, orientation = 'vertical')\n",
    "cbar.set_label(\"P-wave velocity (m/s)\")"
   ]
  },
  {
   "cell_type": "code",
   "execution_count": 83,
   "id": "01023065",
   "metadata": {},
   "outputs": [],
   "source": [
    "SEISMO=4\n",
    "READREC=0\n",
    "REC_FILE='./receiver/receiver.dat'\n",
    "REFREC_TUPLE=str(0)+' , '+str(0)\n",
    "REC1_TUPLE=str(x_start)+' , '+str(y_start)\n",
    "REC2_TUPLE=str(x_end)+' , '+str(y_end)\n",
    "NGEOPH=1"
   ]
  },
  {
   "cell_type": "markdown",
   "id": "6842e31a",
   "metadata": {},
   "source": [
    "##### JSON Update"
   ]
  },
  {
   "cell_type": "code",
   "execution_count": 84,
   "id": "b3d6ce96",
   "metadata": {},
   "outputs": [],
   "source": [
    "json_update={'SEISMO':SEISMO,'READREC':READREC,'REC_FILE':REC_FILE,'REFRECX, REFRECY': REFREC_TUPLE,'XREC1, YREC1':REC1_TUPLE,'XREC2, YREC2':REC2_TUPLE,'NGEOPH':NGEOPH}\n",
    "json_output.update(json_update)"
   ]
  },
  {
   "cell_type": "markdown",
   "id": "1abb3e90",
   "metadata": {},
   "source": [
    "#### 4.11 Receiver array"
   ]
  },
  {
   "cell_type": "code",
   "execution_count": 85,
   "id": "991c82cb",
   "metadata": {},
   "outputs": [],
   "source": [
    "REC_ARRAY=0\n",
    "REC_ARRAY_DEPTH=70\n",
    "REC_ARRAY_DIST=40\n",
    "DRX=4"
   ]
  },
  {
   "cell_type": "markdown",
   "id": "379276fb",
   "metadata": {},
   "source": [
    "##### JSON Update"
   ]
  },
  {
   "cell_type": "code",
   "execution_count": 86,
   "id": "d401af1b",
   "metadata": {},
   "outputs": [],
   "source": [
    "json_update={'REC_ARRAY':REC_ARRAY,'REC_ARRAY_DEPTH':REC_ARRAY_DEPTH,'REC_ARRAY_DIST':REC_ARRAY_DIST,'DRX':DRX}\n",
    "json_output.update(json_update)"
   ]
  },
  {
   "cell_type": "markdown",
   "id": "d90be554",
   "metadata": {},
   "source": [
    "#### 4.12 Seismograms"
   ]
  },
  {
   "cell_type": "code",
   "execution_count": 87,
   "id": "a120aa1f",
   "metadata": {},
   "outputs": [],
   "source": [
    "NDT=1\n",
    "SEIS_FORMAT=4\n",
    "SEIS_FILE='./su/test'"
   ]
  },
  {
   "cell_type": "markdown",
   "id": "5ccb1e09",
   "metadata": {},
   "source": [
    "##### JSON Update"
   ]
  },
  {
   "cell_type": "code",
   "execution_count": 88,
   "id": "3f4262bc",
   "metadata": {},
   "outputs": [],
   "source": [
    "json_update={'NDT':NDT,'SEIS_FORMAT':SEIS_FORMAT,'SEIS_FILE':SEIS_FILE}\n",
    "json_output.update(json_update)"
   ]
  },
  {
   "cell_type": "markdown",
   "id": "d94dc268",
   "metadata": {},
   "source": [
    "#### 4.13 Monitoring the simulation"
   ]
  },
  {
   "cell_type": "code",
   "execution_count": 89,
   "id": "4d6dd5f3",
   "metadata": {},
   "outputs": [],
   "source": [
    "LOG=1\n",
    "LOG_FILE='log/test.log/'\n",
    "OUT_TIMESTEP_INFO=10"
   ]
  },
  {
   "cell_type": "markdown",
   "id": "758adf92",
   "metadata": {},
   "source": [
    "##### JSON Update"
   ]
  },
  {
   "cell_type": "code",
   "execution_count": 90,
   "id": "e7c93152",
   "metadata": {},
   "outputs": [],
   "source": [
    "json_update={'LOG_FILE':LOG_FILE,'LOG':LOG,'OUT_TIMESTEP_INFO':OUT_TIMESTEP_INFO}\n",
    "json_output.update(json_update)"
   ]
  },
  {
   "cell_type": "markdown",
   "id": "2261ee10",
   "metadata": {},
   "source": [
    "#### 4.14 Checkpointing"
   ]
  },
  {
   "cell_type": "code",
   "execution_count": 91,
   "id": "d20c13d3",
   "metadata": {},
   "outputs": [],
   "source": [
    "CHECKPTREAD=0\n",
    "CHECKPTWRITE=0\n",
    "CHECKPT_FILE='tmp/checkpoint_sofi2D'"
   ]
  },
  {
   "cell_type": "markdown",
   "id": "0c3412d7",
   "metadata": {},
   "source": [
    "##### JSON Update"
   ]
  },
  {
   "cell_type": "code",
   "execution_count": 92,
   "id": "2cb133f2",
   "metadata": {},
   "outputs": [],
   "source": [
    "json_update={'CHECKPTREAD':CHECKPTREAD,'CHECKPTWRITE':CHECKPTWRITE,'CHECKPT_FILE':CHECKPT_FILE}\n",
    "json_output.update(json_update)"
   ]
  },
  {
   "cell_type": "markdown",
   "id": "334ded1a",
   "metadata": {},
   "source": [
    "#### 4.15 JSON File Preview"
   ]
  },
  {
   "cell_type": "code",
   "execution_count": 94,
   "id": "f75514ab",
   "metadata": {},
   "outputs": [
    {
     "name": "stdout",
     "output_type": "stream",
     "text": [
      "{\"Domain Decomposition\": \"comment\", \"NPROCX\": 4, \"NPROCY\": 2, \"FD order\": \"comment\", \"FDORDER\": 2, \"FDORDER_TIME\": 2, \"MAXRELERROR\": 1, \"2-D Grid\": \"comment\", \"NX\": 108, \"NY\": 108, \"DH\": 50, \"Time Stepping\": \"commnent\", \"TIME\": 5, \"DT\": 0.006, \"Source\": \"comment\", \"SOURCE_SHAPE\": 1, \"SIGNAL_FILE\": \"signal_mseis.tz\", \"SOURCE_TYPE\": 1, \"SRCREC\": 1, \"SOURCE_FILE\": \"./sources/source.dat\", \"RUN_MULTIPLE_SHOTS\": 0, \"PLANE_WAVE_DEPTH\": 5, \"PLANE_WAVE_ANGLE\": 89, \"TS\": 0.2, \"READMOD\": 1, \"MFILE\": \"model/test\", \"WRITE_MODELFILES\": 0, \"L\": 0, \"FL1\": 5, \"TAU\": 1e-05, \"FREE_SURF\": 1, \"BOUNDARY\": 0, \"FW\": 10, \"ABS_TYPE\": 1, \"NPOWER\": 4, \"K_MAX_CPML\": 1, \"VPPML\": 3500, \"FPML\": 5, \"DAMPING\": 8, \"SNAP\": 4, \"TSNAP1\": 0.0066, \"TSNAP2\": 4.8, \"TSNAPINC\": 0.2, \"IDX\": 1, \"IDY\": 1, \"SNAP_FORMAT\": 3, \"SNAP_FILE\": \"./snap/test\", \"SEISMO\": 4, \"READREC\": 0, \"REC_FILE\": \"./receiver/receiver.dat\", \"REFRECX, REFRECY\": \"0 , 0\", \"XREC1, YREC1\": \"4000 , 4000\", \"XREC2, YREC2\": \"5000 , 5000\", \"NGEOPH\": 1, \"REC_ARRAY\": 0, \"REC_ARRAY_DEPTH\": 70, \"REC_ARRAY_DIST\": 40, \"DRX\": 4, \"NDT\": 1, \"SEIS_FORMAT\": 4, \"SEIS_FILE\": \"./su/test\", \"LOG_FILE\": \"log/test.log/\", \"LOG\": 1, \"OUT_TIMESTEP_INFO\": 10, \"CHECKPTREAD\": 0, \"CHECKPTWRITE\": 0, \"CHECKPT_FILE\": \"tmp/checkpoint_sofi2D\"}\n"
     ]
    }
   ],
   "source": [
    "jsonfile = json.dumps(json_output)\n",
    "print(jsonfile)"
   ]
  },
  {
   "cell_type": "code",
   "execution_count": 96,
   "id": "6ba0f040",
   "metadata": {},
   "outputs": [],
   "source": [
    "file = open(\"data.json\", \"w\")\n",
    "file.write(jsonfile)\n",
    "file.close()"
   ]
  },
  {
   "cell_type": "code",
   "execution_count": null,
   "id": "f220fef7",
   "metadata": {},
   "outputs": [],
   "source": []
  }
 ],
 "metadata": {
  "kernelspec": {
   "display_name": "Python 3",
   "language": "python",
   "name": "python3"
  },
  "language_info": {
   "codemirror_mode": {
    "name": "ipython",
    "version": 3
   },
   "file_extension": ".py",
   "mimetype": "text/x-python",
   "name": "python",
   "nbconvert_exporter": "python",
   "pygments_lexer": "ipython3",
   "version": "3.8.8"
  }
 },
 "nbformat": 4,
 "nbformat_minor": 5
}
