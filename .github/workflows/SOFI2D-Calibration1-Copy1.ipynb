{
 "cells": [
  {
   "cell_type": "markdown",
   "id": "3864dd3b",
   "metadata": {},
   "source": [
    "## SOFI 2D Model Builder\n",
    "- This code shows an interactive and step-by-step code to generate 2D models ready to run in SOFI2D\n",
    "- Structures and examples are focused on acoustic well-logging applications\n",
    "- Currently, only vertical or horizontal features can be incorporated in the model\n",
    "\n",
    "##### Reference:\n",
    "I used - SOFI 2D - User Guide written by Thomas Bohlen, Denise De Nil, Daniel Kohn and Stefan Jetschny\n",
    "\n",
    "Link: https://git.scc.kit.edu/GPIAG-Software/SOFI2D/-/wikis/home\n"
   ]
  },
  {
   "cell_type": "markdown",
   "id": "fe7b1fdf",
   "metadata": {},
   "source": [
    "#### Imported Libraries"
   ]
  },
  {
   "cell_type": "code",
   "execution_count": 100,
   "id": "be94f280",
   "metadata": {},
   "outputs": [],
   "source": [
    "import os                                                 # to set current working directory \n",
    "import math                                               # basic calculations like square root\n",
    "import numpy as np                                        # arrays and matrix math\n",
    "import matplotlib.pyplot as plt                           # plotting\n",
    "import pandas as pd\n",
    "import struct\n",
    "from scipy.fft import fft, fftfreq, fftshift"
   ]
  },
  {
   "cell_type": "markdown",
   "id": "a2263550",
   "metadata": {},
   "source": [
    "#### Functions\n",
    "References used binary-float32 data transformations:\n",
    "https://docs.python.org/3/library/struct.html#examples\n",
    "https://www.stackvidhya.com/python-read-binary-file/\n",
    "https://pythonguides.com/python-read-a-binary-file/\n",
    "https://www.bestprog.net/en/2020/04/30/python-binary-files-examples-of-working-with-binary-files/#:~:text=Python%20has%20tools%20for%20working%20with%20binary%20files.,function%2C%20whose%20mode%20parameter%20contains%20the%20character%20%E2%80%98b%E2%80%99"
   ]
  },
  {
   "cell_type": "code",
   "execution_count": 101,
   "id": "9e91ca84",
   "metadata": {},
   "outputs": [],
   "source": [
    "#Source:\n",
    "#https://gist.github.com/LyleScott/e36e08bfb23b1f87af68c9051f985302#:~:text=Rotate%20X%2CY%20%282D%29%20coordinates%20around%20a%20point%20or,0%29.%22%22%22.%20%22%22%22Rotate%20a%20point%20around%20a%20given%20point.\n",
    "def rotate_around_point_highperf(xy, radians, origin=(0, 0)):\n",
    "    \"\"\"Rotate a point around a given point.\n",
    "    \n",
    "    I call this the \"high performance\" version since we're caching some\n",
    "    values that are needed >1 time. It's less readable than the previous\n",
    "    function but it's faster.\n",
    "    \"\"\"\n",
    "    x, y = xy\n",
    "    offset_x, offset_y = origin\n",
    "    adjusted_x = (x - offset_x)\n",
    "    adjusted_y = (y - offset_y)\n",
    "    cos_rad = math.cos(radians)\n",
    "    sin_rad = math.sin(radians)\n",
    "    qx = offset_x + cos_rad * adjusted_x + sin_rad * adjusted_y\n",
    "    qy = offset_y + -sin_rad * adjusted_x + cos_rad * adjusted_y\n",
    "\n",
    "    return qx, qy\n",
    "\n",
    "def plotmodels(xx_grid,yy_grid,zz_Vp,zz_Vs,zz_Rho,zz_Qp,zz_Qs):\n",
    "    plt.subplot(2,3,1)\n",
    "    im1 = plt.contourf(xx_grid, yy_grid, zz_Vp,500,cmap=plt.cm.jet,norm=None)\n",
    "    plt.title('P-wave model')\n",
    "    plt.xlabel('x (grid number)'); plt.ylabel('y (grid number)')\n",
    "    cbar = plt.colorbar(im1, orientation = 'vertical')\n",
    "    cbar.set_label(\"P-wave velocity (m/s)\")\n",
    "\n",
    "    plt.subplot(2,3,2)\n",
    "    im2 = plt.contourf(xx_grid, yy_grid, zz_Vs,500,cmap=plt.cm.jet,norm=None)\n",
    "    plt.title('S-wave model')\n",
    "    plt.xlabel('x (grid number)'); plt.ylabel('y (grid number)')\n",
    "    cbar = plt.colorbar(im2, orientation = 'vertical')\n",
    "    cbar.set_label(\"S-wave velocity (m/s)\")\n",
    "\n",
    "    plt.subplot(2,3,3)\n",
    "    im3 = plt.contourf(xx_grid, yy_grid, zz_Rho,500,cmap=plt.cm.jet,norm=None)\n",
    "    plt.title('Density model')\n",
    "    plt.xlabel('x (grid number)'); plt.ylabel('y (grid number)')\n",
    "    cbar = plt.colorbar(im3, orientation = 'vertical')\n",
    "    cbar.set_label(\"Density (kg/m^3)\")\n",
    "\n",
    "    plt.subplot(2,3,4)\n",
    "    im4 = plt.contourf(xx_grid, yy_grid, zz_Qp,500,cmap=plt.cm.jet,norm=None)\n",
    "    plt.title('P-wave attenuation model')\n",
    "    plt.xlabel('x (grid number)'); plt.ylabel('y (grid number)')\n",
    "    cbar = plt.colorbar(im4, orientation = 'vertical')\n",
    "    cbar.set_label(\"P-wave attenuation\")\n",
    "\n",
    "    plt.subplot(2,3,5)\n",
    "    im5 = plt.contourf(xx_grid, yy_grid, zz_Qs,500,cmap=plt.cm.jet,norm=None)\n",
    "    plt.title('S-wave attenuation model')\n",
    "    plt.xlabel('x (grid number)'); plt.ylabel('y (grid number)')\n",
    "    cbar = plt.colorbar(im5, orientation = 'vertical')\n",
    "    cbar.set_label(\"S-wave attenuation\")\n",
    "\n",
    "    plt.subplots_adjust(left=0.0, bottom=0.0, right=3.0, top=3, wspace=0.2, hspace=0.2)\n",
    "\n",
    "def HorizontalLayer(NX,NY,dh,zz_base,Top,Thickness,zz_new):\n",
    "    xx_grid, yy_grid = np.meshgrid(np.linspace(0,NX-1,NX),np.linspace(0,NY-1,NY))\n",
    "    xx_m=xx_grid*dh\n",
    "    yy_m=yy_grid*dh\n",
    "    for x in range(NY):\n",
    "        for y in range(NX):\n",
    "            if yy_m[x,y]>=Top and yy_m[x,y]<=(Top+Thickness):\n",
    "                zz_base[y,x]=zz_new\n",
    "    return zz_base\n",
    "\n",
    "def DippingLayer(NX,NY,dh,zz_base,Top,Top_x_reference,Angle_deg,Thickness,zz_new):\n",
    "    xx_grid, yy_grid = np.meshgrid(np.linspace(0,NX-1,NX),np.linspace(0,NY-1,NY))\n",
    "    xx_m=xx_grid*dh\n",
    "    yy_m=yy_grid*dh\n",
    "    for x in range(NY):\n",
    "        for y in range(NX):\n",
    "            xy=(xx_m[x,y],yy_m[x,y])\n",
    "            origin=(Top_x_reference,Top)\n",
    "            radians=Angle_deg*math.pi/180\n",
    "            [xx_m[x,y],yy_m[x,y]]=rotate_around_point_highperf(xy, radians, origin)\n",
    "            if yy_m[x,y]>=Top and yy_m[x,y]<=(Top+Thickness):\n",
    "                zz_base[y,x]=zz_new\n",
    "    return zz_base\n",
    "\n",
    "def VerticalLayer(NX,NY,dh,zz_base,From,To,zz_new):\n",
    "    xx_grid, yy_grid = np.meshgrid(np.linspace(0,NX-1,NX),np.linspace(0,NY-1,NY))\n",
    "    xx_m=xx_grid*dh\n",
    "    yy_m=yy_grid*dh\n",
    "    for x in range(NY):\n",
    "        for y in range(NX):\n",
    "            if xx_m[x,y]>=From and xx_m[x,y]<=(To):\n",
    "                zz_base[y,x]=zz_new\n",
    "    return zz_base\n",
    "\n",
    "def Placement_HorizontalLayer(zz_Vp,zz_Vs,zz_Rho,zz_Qp,zz_Qs,NX,NY,dh,Top,Thickness,Vp,Vs,Rho,Qp,Qs):\n",
    "    zz_Vp=HorizontalLayer(NX,NY,dh,zz_Vp,Top,Thickness,Vp)\n",
    "    zz_Vs=HorizontalLayer(NX,NY,dh,zz_Vs,Top,Thickness,Vs)\n",
    "    zz_Rho=HorizontalLayer(NX,NY,dh,zz_Rho,Top,Thickness,Rho)\n",
    "    zz_Qp=HorizontalLayer(NX,NY,dh,zz_Qp,Top,Thickness,Qp)\n",
    "    zz_Qs=HorizontalLayer(NX,NY,dh,zz_Qs,Top,Thickness,Qs)\n",
    "    return zz_Vp, zz_Vs, zz_Rho, zz_Qp, zz_Qs\n",
    "\n",
    "def Placement_DippingLayer(zz_Vp,zz_Vs,zz_Rho,zz_Qp,zz_Qs,NX,NY,dh,Top,Top_x_reference,Angle_deg,Thickness,Vp,Vs,Rho,Qp,Qs):\n",
    "    zz_Vp=DippingLayer(NX,NY,dh,zz_Vp,Top,Top_x_reference,Angle_deg,Thickness,Vp)\n",
    "    zz_Vs=DippingLayer(NX,NY,dh,zz_Vs,Top,Top_x_reference,Angle_deg,Thickness,Vs)\n",
    "    zz_Rho=DippingLayer(NX,NY,dh,zz_Rho,Top,Top_x_reference,Angle_deg,Thickness,Rho)\n",
    "    zz_Qp=DippingLayer(NX,NY,dh,zz_Qp,Top,Top_x_reference,Angle_deg,Thickness,Qp)\n",
    "    zz_Qs=DippingLayer(NX,NY,dh,zz_Qs,Top,Top_x_reference,Angle_deg,Thickness,Qs)\n",
    "    return zz_Vp, zz_Vs, zz_Rho, zz_Qp, zz_Qs\n",
    "\n",
    "def Placement_VerticallLayer(zz_Vp,zz_Vs,zz_Rho,zz_Qp,zz_Qs,NX,NY,dh,From,To,Vp,Vs,Rho,Qp,Qs):\n",
    "    zz_Vp=VerticalLayer(NX,NY,dh,zz_Vp,From,To,Vp)\n",
    "    zz_Vs=VerticalLayer(NX,NY,dh,zz_Vs,From,To,Vs)\n",
    "    zz_Rho=VerticalLayer(NX,NY,dh,zz_Rho,From,To,Rho)\n",
    "    zz_Qp=VerticalLayer(NX,NY,dh,zz_Qp,From,To,Qp)\n",
    "    zz_Qs=VerticalLayer(NX,NY,dh,zz_Qs,From,To,Qs)\n",
    "    return zz_Vp, zz_Vs, zz_Rho, zz_Qp, zz_Qs\n",
    "\n",
    "def openfile_frombinarytofloat32array(filename,nx_file,ny_file):\n",
    "    newfile=open(filename,\"rb\")\n",
    "    filecontent=newfile.readline()\n",
    "    datasize=struct.calcsize('f')\n",
    "    contentsize=len(filecontent)/datasize\n",
    "    if nx_file*ny_file==contentsize:\n",
    "        print('File size is correct')\n",
    "        data = np.zeros([nx_file,ny_file])\n",
    "        count=0\n",
    "        for n in range(nx_file):\n",
    "            for m in range(ny_file):\n",
    "                data[n,m] = struct.unpack('f',filecontent[count:count+4])[0]\n",
    "                count=count+4\n",
    "    else:\n",
    "        data=[]\n",
    "        print('File size is NOT correct')\n",
    "        print(nx_file*ny_file)\n",
    "        print(contentsize)\n",
    "    return data\n",
    "\n",
    "def savefile_fromfloat32arraytobinary(filename,nx_file,ny_file,array):\n",
    "    newfile=open(filename,\"wb\")\n",
    "    for n in range(nx_file):\n",
    "        for m in range(ny_file):\n",
    "            output_binary=struct.pack('f',array[n,m])\n",
    "            newfile.write(output_binary)\n",
    "            \n",
    "def LinearArray(x_start,x_end,y_start,y_end,spacing):\n",
    "    ArrayLength=np.sqrt((x_end-x_start)**2+(y_end-y_start)**2)\n",
    "    if x_end==x_start:\n",
    "        ArrayAngle=np.pi/2\n",
    "    else:\n",
    "        ArrayAngle=math.atan((y_end-y_start)/(x_end-x_start))\n",
    "    ArraySize=int(ArrayLength/spacing)\n",
    "    if ArraySize<=1:\n",
    "        Array=np.zeros([1,2])\n",
    "        Array[0,0]=x_start\n",
    "        Array[0,1]=y_start\n",
    "    else:\n",
    "        Array=np.zeros([ArraySize,2])\n",
    "        for n in range(ArraySize):\n",
    "            Array[n,0]=x_start+n*spacing*np.cos(ArrayAngle)\n",
    "            Array[n,1]=y_start+n*spacing*np.sin(ArrayAngle)\n",
    "    return Array\n",
    "\n",
    "def TRplacement(GridSize,Gridref_x,Gridref_y,Input):               #this function transforms a set of coordinates into an array of coordinates for source/receiver placement\n",
    "    function_grid=np.zeros([len(Input),2])\n",
    "    for n in range(len(Input)):                                     #transform from coordinate to grid points\n",
    "        function_grid[n,0]=int((Input[n,0]-Gridref_x)/GridSize)\n",
    "        function_grid[n,1]=int((Input[n,1]-Gridref_y)/GridSize)\n",
    "    #Clean duplicate values\n",
    "    temp=np.ones(np.shape(function_grid))*np.nan                   #Create a vector the same size as the input, this is the non-duplicate list\n",
    "    temp[0,:]=function_grid[0,:]\n",
    "    count=1\n",
    "    index=0\n",
    "    for n in range(len(function_grid)):                            #Take one by one the transformed values...\n",
    "        flag=0\n",
    "        for m in range(count):                                     #...and compare them against the non-duplicate list\n",
    "            if flag==0:\n",
    "                if function_grid[n,0]==temp[m,0] and function_grid[n,1]==temp[m,1]:\n",
    "                    flag=1\n",
    "        if flag==0:                                                #if an 'n' value wasnt found in the non-duplicate vector list...\n",
    "            count=count+1                                          #...then it is added as a new component\n",
    "            temp[count-1,:]=function_grid[n,:]\n",
    "    function_gridded=temp[0:count,:]                               #we uppdate the size of the output to the total of non-duplicated values\n",
    "    function_gridded_m=function_gridded*0\n",
    "    for n in range(len(function_gridded)):\n",
    "        function_gridded_m[n,0]=(function_gridded[n,0]*GridSize+Gridref_x)\n",
    "        function_gridded_m[n,1]=(function_gridded[n,1]*GridSize+Gridref_y)    \n",
    "    return function_gridded_m\n",
    "\n",
    "def TRcornercleaning(function_gridded):                            #this function cleans up corners generated by the TRPlacement function\n",
    "    temp=np.ones(np.shape(function_gridded))*np.nan\n",
    "    temp[0,:]=function_gridded[0,:]\n",
    "    count=1\n",
    "    for n in range(1,len(function_gridded)-1):\n",
    "        if function_gridded[n,0]==function_gridded[n-1,0] and function_gridded[n,1]==function_gridded[n+1,1]:\n",
    "            count=count\n",
    "        else:\n",
    "            count=count+1\n",
    "            temp[count-1,:]=function_gridded[n,:]\n",
    "    temp[count,:]=function_gridded[len(function_gridded)-1,:]\n",
    "    function_gridded_clean=temp[0:count+1,:]\n",
    "    return function_gridded_clean"
   ]
  },
  {
   "cell_type": "markdown",
   "id": "9a471831",
   "metadata": {},
   "source": [
    "### 1. Defining the grid\n",
    "Optimal grid dimensions definition requires knowledge of:\n",
    "- Maximum and minimum velocities\n",
    "- Maximum frequency\n",
    "\n",
    "These two set of parameters give recommended grid size $dh$ and time step $DT$\n",
    "After that, knowledge of model dimensions is required:\n",
    "- X-Y Dimensions\n",
    "- Modeling time span\n",
    "\n",
    "These second set of parameters are in charge of defining total number of steps $NT$ and grid dimension $NX$ and $NY$\n"
   ]
  },
  {
   "cell_type": "code",
   "execution_count": 102,
   "id": "f075719e",
   "metadata": {},
   "outputs": [
    {
     "data": {
      "text/html": [
       "<div>\n",
       "<style scoped>\n",
       "    .dataframe tbody tr th:only-of-type {\n",
       "        vertical-align: middle;\n",
       "    }\n",
       "\n",
       "    .dataframe tbody tr th {\n",
       "        vertical-align: top;\n",
       "    }\n",
       "\n",
       "    .dataframe thead th {\n",
       "        text-align: right;\n",
       "    }\n",
       "</style>\n",
       "<table border=\"1\" class=\"dataframe\">\n",
       "  <thead>\n",
       "    <tr style=\"text-align: right;\">\n",
       "      <th></th>\n",
       "      <th>n_Taylor</th>\n",
       "      <th>dh (m)</th>\n",
       "      <th>h_M2</th>\n",
       "      <th>M_2 (s)</th>\n",
       "      <th>M_4 (s)</th>\n",
       "    </tr>\n",
       "  </thead>\n",
       "  <tbody>\n",
       "    <tr>\n",
       "      <th>0</th>\n",
       "      <td>12</td>\n",
       "      <td>0.020833</td>\n",
       "      <td>1.000000</td>\n",
       "      <td>0.000003</td>\n",
       "      <td>0.000002</td>\n",
       "    </tr>\n",
       "    <tr>\n",
       "      <th>1</th>\n",
       "      <td>8</td>\n",
       "      <td>0.031250</td>\n",
       "      <td>1.166667</td>\n",
       "      <td>0.000003</td>\n",
       "      <td>0.000003</td>\n",
       "    </tr>\n",
       "    <tr>\n",
       "      <th>2</th>\n",
       "      <td>6</td>\n",
       "      <td>0.041667</td>\n",
       "      <td>1.241667</td>\n",
       "      <td>0.000004</td>\n",
       "      <td>0.000003</td>\n",
       "    </tr>\n",
       "    <tr>\n",
       "      <th>3</th>\n",
       "      <td>5</td>\n",
       "      <td>0.050000</td>\n",
       "      <td>1.286310</td>\n",
       "      <td>0.000005</td>\n",
       "      <td>0.000004</td>\n",
       "    </tr>\n",
       "    <tr>\n",
       "      <th>4</th>\n",
       "      <td>5</td>\n",
       "      <td>0.050000</td>\n",
       "      <td>1.316691</td>\n",
       "      <td>0.000005</td>\n",
       "      <td>0.000004</td>\n",
       "    </tr>\n",
       "    <tr>\n",
       "      <th>5</th>\n",
       "      <td>4</td>\n",
       "      <td>0.062500</td>\n",
       "      <td>1.339064</td>\n",
       "      <td>0.000006</td>\n",
       "      <td>0.000005</td>\n",
       "    </tr>\n",
       "  </tbody>\n",
       "</table>\n",
       "</div>"
      ],
      "text/plain": [
       "   n_Taylor    dh (m)      h_M2   M_2 (s)   M_4 (s)\n",
       "0        12  0.020833  1.000000  0.000003  0.000002\n",
       "1         8  0.031250  1.166667  0.000003  0.000003\n",
       "2         6  0.041667  1.241667  0.000004  0.000003\n",
       "3         5  0.050000  1.286310  0.000005  0.000004\n",
       "4         5  0.050000  1.316691  0.000005  0.000004\n",
       "5         4  0.062500  1.339064  0.000006  0.000005"
      ]
     },
     "execution_count": 102,
     "metadata": {},
     "output_type": "execute_result"
    }
   ],
   "source": [
    "#Model Parameters\n",
    "ModelMaxVel=5860                    #Maximum velocity (in m/s)\n",
    "ModelMinVel=1000                    #Minimum velocity (in m/s)\n",
    "PeakFrequency=2000\n",
    "MaxFrequency=2*PeakFrequency                  #Maximum frequency required (in Hz) -> two times center frequency\n",
    "\n",
    "n_Taylor=[12,8,6,5,5,4]                                                  #Spatial Taylor coefficients (unitless)\n",
    "dh_Taylor=np.zeros(len(n_Taylor))\n",
    "h_Taylor_N2=[1,7/6,149/120,2161/1680,53089/40320,1187803/887040]            #Time Taylor coefficients (unitless)\n",
    "dt_Taylor=np.zeros([len(n_Taylor),2])\n",
    "#I generate a dataframe with dh and dt values using Taylor coefficients\n",
    "for n in range(len(n_Taylor)):\n",
    "    dh_Taylor[n]=ModelMinVel/(n_Taylor[n]*MaxFrequency)\n",
    "    dt_Taylor[n,0]=dh_Taylor[n]/(h_Taylor_N2[n]*np.sqrt(2)*ModelMaxVel)\n",
    "    dt_Taylor[n,1]=6*dh_Taylor[n]/(7*h_Taylor_N2[n]*np.sqrt(2)*ModelMaxVel)\n",
    "d={'n_Taylor':n_Taylor,'dh (m)':dh_Taylor,'h_M2':h_Taylor_N2}\n",
    "df_grid_Taylor = pd.DataFrame(data=d)\n",
    "\n",
    "for n in range(2):\n",
    "    df_grid_Taylor['M_'+str(2*(1+n))+' (s)']=dt_Taylor[:,n]\n",
    "\n",
    "    \n",
    "df_grid_Taylor.head(n=len(n_Taylor))    "
   ]
  },
  {
   "cell_type": "code",
   "execution_count": 103,
   "id": "286cdff5",
   "metadata": {},
   "outputs": [
    {
     "data": {
      "text/html": [
       "<div>\n",
       "<style scoped>\n",
       "    .dataframe tbody tr th:only-of-type {\n",
       "        vertical-align: middle;\n",
       "    }\n",
       "\n",
       "    .dataframe tbody tr th {\n",
       "        vertical-align: top;\n",
       "    }\n",
       "\n",
       "    .dataframe thead th {\n",
       "        text-align: right;\n",
       "    }\n",
       "</style>\n",
       "<table border=\"1\" class=\"dataframe\">\n",
       "  <thead>\n",
       "    <tr style=\"text-align: right;\">\n",
       "      <th></th>\n",
       "      <th>n_Holberg</th>\n",
       "      <th>dh (m)</th>\n",
       "      <th>h</th>\n",
       "      <th>N_2 (s)</th>\n",
       "      <th>N_4 (s)</th>\n",
       "    </tr>\n",
       "  </thead>\n",
       "  <tbody>\n",
       "    <tr>\n",
       "      <th>0</th>\n",
       "      <td>12.00</td>\n",
       "      <td>0.010417</td>\n",
       "      <td>1.000000</td>\n",
       "      <td>0.000001</td>\n",
       "      <td>8.796780e-07</td>\n",
       "    </tr>\n",
       "    <tr>\n",
       "      <th>1</th>\n",
       "      <td>8.32</td>\n",
       "      <td>0.015024</td>\n",
       "      <td>1.184615</td>\n",
       "      <td>0.000001</td>\n",
       "      <td>1.071037e-06</td>\n",
       "    </tr>\n",
       "    <tr>\n",
       "      <th>2</th>\n",
       "      <td>4.77</td>\n",
       "      <td>0.026205</td>\n",
       "      <td>1.283482</td>\n",
       "      <td>0.000002</td>\n",
       "      <td>1.724236e-06</td>\n",
       "    </tr>\n",
       "    <tr>\n",
       "      <th>3</th>\n",
       "      <td>3.69</td>\n",
       "      <td>0.033875</td>\n",
       "      <td>1.345927</td>\n",
       "      <td>0.000002</td>\n",
       "      <td>2.125480e-06</td>\n",
       "    </tr>\n",
       "    <tr>\n",
       "      <th>4</th>\n",
       "      <td>3.19</td>\n",
       "      <td>0.039185</td>\n",
       "      <td>1.387660</td>\n",
       "      <td>0.000003</td>\n",
       "      <td>2.384686e-06</td>\n",
       "    </tr>\n",
       "    <tr>\n",
       "      <th>5</th>\n",
       "      <td>2.91</td>\n",
       "      <td>0.042955</td>\n",
       "      <td>1.417065</td>\n",
       "      <td>0.000003</td>\n",
       "      <td>2.559895e-06</td>\n",
       "    </tr>\n",
       "  </tbody>\n",
       "</table>\n",
       "</div>"
      ],
      "text/plain": [
       "   n_Holberg    dh (m)         h   N_2 (s)       N_4 (s)\n",
       "0      12.00  0.010417  1.000000  0.000001  8.796780e-07\n",
       "1       8.32  0.015024  1.184615  0.000001  1.071037e-06\n",
       "2       4.77  0.026205  1.283482  0.000002  1.724236e-06\n",
       "3       3.69  0.033875  1.345927  0.000002  2.125480e-06\n",
       "4       3.19  0.039185  1.387660  0.000003  2.384686e-06\n",
       "5       2.91  0.042955  1.417065  0.000003  2.559895e-06"
      ]
     },
     "execution_count": 103,
     "metadata": {},
     "output_type": "execute_result"
    }
   ],
   "source": [
    "#I generate a dataframe with dh and dt values using Holberg coefficients\n",
    "n_Holberg=[12,8.32,4.77,3.69,3.19,2.91]\n",
    "dh_Holberg=np.zeros(len(n_Holberg))\n",
    "h_Holberg_N2=[1,1.1846146,1.283482,1.345927,1.387660,1.417065]\n",
    "dt_Holberg=np.zeros([len(n_Holberg),2])\n",
    "for n in range(len(n_Holberg)):\n",
    "    dh_Holberg[n]=ModelMinVel/(2*n_Holberg[n]*MaxFrequency)\n",
    "    dt_Holberg[n,0]=dh_Holberg[n]/(h_Holberg_N2[n]*np.sqrt(3)*ModelMaxVel)\n",
    "    dt_Holberg[n,1]=6*dh_Holberg[n]/(7*h_Holberg_N2[n]*np.sqrt(3)*ModelMaxVel)\n",
    "d={'n_Holberg':n_Holberg,'dh (m)':dh_Holberg,'h':h_Holberg_N2}\n",
    "df_grid_Holberg = pd.DataFrame(data=d)\n",
    "\n",
    "for n in range(2):\n",
    "    df_grid_Holberg['N_'+str(2*(1+n))+' (s)']=dt_Holberg[:,n]\n",
    "\n",
    "    \n",
    "df_grid_Holberg.head(n=len(n_Holberg))  "
   ]
  },
  {
   "cell_type": "code",
   "execution_count": 104,
   "id": "85bc5757",
   "metadata": {},
   "outputs": [
    {
     "name": "stdout",
     "output_type": "stream",
     "text": [
      "Grid has the following dimensions. X:300,Y:7000 and a total of 2188 steps.\n",
      "Grid spacing is: 0.001\n",
      "Time step is: 2.514e-06\n"
     ]
    }
   ],
   "source": [
    "#Once I define my dh and dt for the model, I build my grid\n",
    "# dh_model=np.round(dh_Taylor[0],decimals=5)                            #model grid size (in m)\n",
    "dh_model=np.round(0.001,decimals=5)                            #model grid size (in m)\n",
    "dt_model=np.round(dt_Taylor[0,0],decimals=9)                           #time step (in s)\n",
    "#Then I define the dimensions of the grid\n",
    "X_length=0.3                                     #grid length along X-direction   (in m)\n",
    "Y_length=7                                       #grid length along Y-direction   (in m)\n",
    "T_length=5.5/1000                                        #simulation time                 (in s)\n",
    "#And then I can create my grid\n",
    "NX=int(np.round(X_length/dh_model))                    #grid size along X-direction     (number of cells)\n",
    "NY=int(np.round(Y_length/dh_model))                    #grid size along Y-direction     (number of cells)\n",
    "NT=int(np.round(T_length/dt_model))                    #Total number of steps\n",
    "\n",
    "print('Grid has the following dimensions. X:'+str(np.round(NX))+',Y:'+str(np.round(NY))+' and a total of '+str(np.round(NT))+' steps.')\n",
    "print('Grid spacing is: '+str(dh_model))\n",
    "print('Time step is: '+str(dt_model))"
   ]
  },
  {
   "cell_type": "markdown",
   "id": "7a48cd19",
   "metadata": {},
   "source": [
    "### 2. Defining the model\n",
    "Once I generate the grid, I generate a base model using a single layer with the initial parametrical values: P-wave model, S-wave model, Density model, P-wave attenuation model and S-wave attenuation model.\n",
    "- Each layer has a constant value for each parameter\n",
    "- Every subsequent layer replaces the preexisting value of parameter within the layer grid\n",
    "- Layer input is done through grid coordinates range and parameters"
   ]
  },
  {
   "cell_type": "code",
   "execution_count": 105,
   "id": "f3501d45",
   "metadata": {},
   "outputs": [
    {
     "data": {
      "image/png": "[encoded data removed]",
      "text/plain": [
       "<Figure size 432x288 with 10 Axes>"
      ]
     },
     "metadata": {
      "needs_background": "light"
     },
     "output_type": "display_data"
    }
   ],
   "source": [
    "#Base layer\n",
    "#Define parameters:\n",
    "#P-wave velocity (m/s)\n",
    "Vp=3544\n",
    "#S-wave velocity (m/s)\n",
    "Vs=1905\n",
    "#Density (kg/m^3)\n",
    "Rho=2240\n",
    "#Vp-wave attenuation (unitless)\n",
    "Qp=0.01\n",
    "#Vs-wave attenuation (unitless)\n",
    "Qs=0.01\n",
    "\n",
    "#Grid generation and population\n",
    "xx_grid, yy_grid = np.meshgrid(np.linspace(0,NX-1,NX),np.linspace(0,NY-1,NY))\n",
    "xx_m=xx_grid*dh_model\n",
    "yy_m=yy_grid*dh_model\n",
    "zz_Vp=np.ones([NX,NY])*Vp\n",
    "zz_Vs=np.ones([NX,NY])*Vs\n",
    "zz_Rho=np.ones([NX,NY])*Rho\n",
    "zz_Qp=np.ones([NX,NY])*Qp\n",
    "zz_Qs=np.ones([NX,NY])*Qs\n",
    "\n",
    "plotmodels(xx_m.T,yy_m.T,zz_Vp,zz_Vs,zz_Rho,zz_Qp,zz_Qs)"
   ]
  },
  {
   "cell_type": "code",
   "execution_count": 106,
   "id": "7eac8b48",
   "metadata": {},
   "outputs": [],
   "source": [
    "# #Layer 1\n",
    "# Top=0\n",
    "# Thickness=1\n",
    "# Vp=3000\n",
    "# Vs=1800\n",
    "# Rho=2000\n",
    "# Qp=Qp\n",
    "# Qs=Qs\n",
    "# [zz_Vp,zz_Vs,zz_Rho,zz_Qp,zz_Qs]=Placement_HorizontalLayer(zz_Vp,zz_Vs,zz_Rho,zz_Qp,zz_Qs,NX,NY,dh_model,Top,Thickness,Vp,Vs,Rho,Qp,Qs)\n",
    "\n",
    "# #Layer 2\n",
    "# Top=1\n",
    "# Thickness=1.5\n",
    "# Vp=3500\n",
    "# Vs=2100\n",
    "# Rho=2100\n",
    "# Qp=Qp\n",
    "# Qs=Qs\n",
    "# [zz_Vp,zz_Vs,zz_Rho,zz_Qp,zz_Qs]=Placement_HorizontalLayer(zz_Vp,zz_Vs,zz_Rho,zz_Qp,zz_Qs,NX,NY,dh_model,Top,Thickness,Vp,Vs,Rho,Qp,Qs)\n",
    "\n",
    "# #Layer 3\n",
    "# Top=4\n",
    "# Thickness=0.5\n",
    "# Vp=2700\n",
    "# Vs=1500\n",
    "# Rho=1500\n",
    "# Qp=Qp\n",
    "# Qs=Qs\n",
    "# [zz_Vp,zz_Vs,zz_Rho,zz_Qp,zz_Qs]=Placement_HorizontalLayer(zz_Vp,zz_Vs,zz_Rho,zz_Qp,zz_Qs,NX,NY,dh_model,Top,Thickness,Vp,Vs,Rho,Qp,Qs)\n",
    "\n",
    "# # Fracture 2\n",
    "# Top=3.2\n",
    "# Top_x_reference=0.3\n",
    "# Angle_deg=30\n",
    "# Thickness=0.009\n",
    "# Vp=1800\n",
    "# Vs=0\n",
    "# Rho=1000\n",
    "# Qp=Qp\n",
    "# Qs=Qs\n",
    "# [zz_Vp,zz_Vs,zz_Rho,zz_Qp,zz_Qs]=Placement_DippingLayer(zz_Vp,zz_Vs,zz_Rho,zz_Qp,zz_Qs,NX,NY,dh_model,Top,Top_x_reference,Angle_deg,Thickness,Vp,Vs,Rho,Qp,Qs)\n",
    "\n",
    "# Cement\n",
    "From=0\n",
    "To=0.13795\n",
    "Vp=2300\n",
    "Vs=1000\n",
    "Rho=2000\n",
    "Qp=0.01\n",
    "Qs=0.01\n",
    "[zz_Vp,zz_Vs,zz_Rho,zz_Qp,zz_Qs]=Placement_VerticallLayer(zz_Vp,zz_Vs,zz_Rho,zz_Qp,zz_Qs,NX,NY,dh_model,From,To,Vp,Vs,Rho,Qp,Qs)\n",
    "\n",
    "# # Casing\n",
    "From=0\n",
    "To=0.11795\n",
    "Vp=5860\n",
    "Vs=3130\n",
    "Rho=7800\n",
    "Qp=0.01\n",
    "Qs=0.01\n",
    "[zz_Vp,zz_Vs,zz_Rho,zz_Qp,zz_Qs]=Placement_VerticallLayer(zz_Vp,zz_Vs,zz_Rho,zz_Qp,zz_Qs,NX,NY,dh_model,From,To,Vp,Vs,Rho,Qp,Qs)\n",
    "\n",
    "# Fracture 1\n",
    "Top=4.95\n",
    "Thickness=0.01\n",
    "Vp=1524\n",
    "Vs=0\n",
    "Rho=1100\n",
    "Qp=0.01\n",
    "Qs=0.01\n",
    "[zz_Vp,zz_Vs,zz_Rho,zz_Qp,zz_Qs]=Placement_HorizontalLayer(zz_Vp,zz_Vs,zz_Rho,zz_Qp,zz_Qs,NX,NY,dh_model,Top,Thickness,Vp,Vs,Rho,Qp,Qs)\n",
    "\n",
    "# Borehole\n",
    "From=0\n",
    "To=0.10795\n",
    "Vp=1524\n",
    "Vs=0\n",
    "Rho=1100\n",
    "Qp=0.01\n",
    "Qs=0.01\n",
    "[zz_Vp,zz_Vs,zz_Rho,zz_Qp,zz_Qs]=Placement_VerticallLayer(zz_Vp,zz_Vs,zz_Rho,zz_Qp,zz_Qs,NX,NY,dh_model,From,To,Vp,Vs,Rho,Qp,Qs)\n",
    "\n",
    "# Tool\n",
    "From=0\n",
    "To=0.046\n",
    "Vp=1650\n",
    "Vs=400\n",
    "Rho=4451.7\n",
    "Qp=0.2\n",
    "Qs=1\n",
    "[zz_Vp,zz_Vs,zz_Rho,zz_Qp,zz_Qs]=Placement_VerticallLayer(zz_Vp,zz_Vs,zz_Rho,zz_Qp,zz_Qs,NX,NY,dh_model,From,To,Vp,Vs,Rho,Qp,Qs)"
   ]
  },
  {
   "cell_type": "code",
   "execution_count": 107,
   "id": "204956e6",
   "metadata": {},
   "outputs": [
    {
     "data": {
      "image/png": "[encoded data removed]",
      "text/plain": [
       "<Figure size 432x288 with 10 Axes>"
      ]
     },
     "metadata": {
      "needs_background": "light"
     },
     "output_type": "display_data"
    }
   ],
   "source": [
    "plotmodels(xx_m.T,yy_m.T,zz_Vp,zz_Vs,zz_Rho,zz_Qp,zz_Qs)"
   ]
  },
  {
   "cell_type": "markdown",
   "id": "270b7966",
   "metadata": {},
   "source": [
    "### 3. Exporting the models\n",
    "Each model is imported as a different file with extension .vp, .vs, .rho, .qp, and .qs for P-wave velocity, S-wave velocity, Density, P-wave attenuation, and S-wave attenuation, respectively"
   ]
  },
  {
   "cell_type": "code",
   "execution_count": 108,
   "id": "a3b27a61",
   "metadata": {},
   "outputs": [],
   "source": [
    "os.chdir(\"C:/Users/Gabinni/Documents/SOFI2D\") "
   ]
  },
  {
   "cell_type": "code",
   "execution_count": 109,
   "id": "e1fd0587",
   "metadata": {},
   "outputs": [],
   "source": [
    "savefile_fromfloat32arraytobinary('test.vp',NX,NY,zz_Vp.astype('float32'))\n",
    "savefile_fromfloat32arraytobinary('test.vs',NX,NY,zz_Vs.astype('float32'))\n",
    "savefile_fromfloat32arraytobinary('test.rho',NX,NY,zz_Rho.astype('float32'))\n",
    "savefile_fromfloat32arraytobinary('test.qp',NX,NY,zz_Qp.astype('float32'))\n",
    "savefile_fromfloat32arraytobinary('test.qs',NX,NY,zz_Qs.astype('float32'))"
   ]
  },
  {
   "cell_type": "markdown",
   "id": "2fce66de",
   "metadata": {},
   "source": [
    "### 4. Designing of JSON parameter file\n",
    "Along this section I interactively set up json file parameters, as described in the SOFI2D guide.\n",
    "\n",
    "#### 4.1 Domain\n",
    "\n",
    "SOFI2D allows for multiprocessor processing by dividing the domain into subgrids.\n",
    "The total number of processors must be specified when starting the program, defining NP:\n",
    "\n",
    "mpirun - np <NP> ../bin/sofi2D < sofi2D.json\n",
    "                                            \n",
    "Parameters are:\n",
    "- NPROCX : number of processors in x-direction\n",
    "- NPROCY : number of processors in y-direction\n",
    "\n",
    "If the total number of processors in sofi2D.json (calculated as NPROCX*NPROCY) and the command line differ the program will terminate with an error message"
   ]
  },
  {
   "cell_type": "code",
   "execution_count": 11,
   "id": "f2a1c763",
   "metadata": {},
   "outputs": [
    {
     "data": {
      "image/png": "[encoded data removed]",
      "text/plain": [
       "<Figure size 432x288 with 2 Axes>"
      ]
     },
     "metadata": {
      "needs_background": "light"
     },
     "output_type": "display_data"
    }
   ],
   "source": [
    "NPROCX=4\n",
    "NPROCY=5\n",
    "\n",
    "stepx=NX/NPROCX\n",
    "stepy=NY/NPROCY\n",
    "\n",
    "im1 = plt.contourf(xx_grid.T, yy_grid.T, zz_Vp,500,cmap=plt.cm.jet,norm=None)\n",
    "plt.title('Domain decomposition')\n",
    "plt.xlabel('x (grid number)'); plt.ylabel('y (grid number)')\n",
    "cbar = plt.colorbar(im1, orientation = 'vertical')\n",
    "cbar.set_label(\"P-wave velocity (m/s)\")\n",
    "for n in range(NPROCX):\n",
    "    plt.plot([n*stepx,n*stepx],[0,NY-1],'black',linestyle='dashed')\n",
    "for m in range(NPROCY):\n",
    "    plt.plot([0,NX-1],[m*stepy,m*stepy],'black',linestyle='dashed')\n",
    "\n",
    "plt.subplots_adjust(left=0.0, bottom=0.0, right=1.0, top=1, wspace=0.2, hspace=0.2)"
   ]
  },
  {
   "cell_type": "markdown",
   "id": "61a8a357",
   "metadata": {},
   "source": [
    "##### JSON File"
   ]
  },
  {
   "cell_type": "code",
   "execution_count": 12,
   "id": "5aa6ca12",
   "metadata": {},
   "outputs": [
    {
     "data": {
      "text/plain": [
       "63"
      ]
     },
     "execution_count": 12,
     "metadata": {},
     "output_type": "execute_result"
    }
   ],
   "source": [
    "jsonfile = open(\"sofi2D.json\", \"w\")\n",
    "jsonfile.write('{')\n",
    "line1=('\"Domain Decomposition\":\"comment\",')\n",
    "line2=('\"NPROCX\":\"'+str(NPROCX)+'\",')\n",
    "line3=('\"NPROCY\":\"'+str(NPROCY)+'\",')\n",
    "jsonfile.write('\\n{}\\n{}\\n{}\\n'.format(line1,line2,line3))"
   ]
  },
  {
   "cell_type": "markdown",
   "id": "06f0474a",
   "metadata": {},
   "source": [
    "#### 4.2 Order of the FD Operator\n",
    "In this step I define the order of the FD operator.\n",
    "This section is related to section 1., where I defined the grid based on Taylor and Holberg operators.\n",
    "Parameters are:\n",
    "- FDORDER:Order of ssg FD coefficients (values: 2, 4, ..., 12)\n",
    "- FDORDER_TIME: Order of temporal FD coefficients (values: 2 and 4)\n",
    "- MAXRELERROR: Maximum relative group velocity error E and minimum number of grid points per shortest wavelengths where:\n",
    "      - 0 --> Taylor coefficients\n",
    "      - 1 --> Holberg coefficients\n",
    "      - E=0.5%\n",
    "      - E=1.0%\n",
    "      - E=3.0%"
   ]
  },
  {
   "cell_type": "code",
   "execution_count": 13,
   "id": "f2364b4e",
   "metadata": {},
   "outputs": [],
   "source": [
    "FDORDER=12\n",
    "FDORDER_TIME=4\n",
    "MAXRELERROR=0"
   ]
  },
  {
   "cell_type": "markdown",
   "id": "f0b98f8f",
   "metadata": {},
   "source": [
    "##### JSON File Update"
   ]
  },
  {
   "cell_type": "code",
   "execution_count": 14,
   "id": "d72977c3",
   "metadata": {},
   "outputs": [
    {
     "data": {
      "text/plain": [
       "78"
      ]
     },
     "execution_count": 14,
     "metadata": {},
     "output_type": "execute_result"
    }
   ],
   "source": [
    "line1=('\"FD order\":\"comment\",')\n",
    "line2=('\"FDORDER\":\"'+str(FDORDER)+'\",')\n",
    "line3=('\"FDORDER_TIME\":\"'+str(FDORDER_TIME)+'\",')\n",
    "line4=('\"MAXRELERROR\":\"'+str(MAXRELERROR)+'\",')\n",
    "jsonfile.write('\\n{}\\n{}\\n{}\\n{}\\n'.format(line1,line2,line3,line4))"
   ]
  },
  {
   "cell_type": "markdown",
   "id": "09f46b53",
   "metadata": {},
   "source": [
    "#### 4.3 Discretization\n",
    "This step import parameters from sections 1 and 2 and checks stability.\n",
    "Outputs are the initial parameters we defined first:\n",
    "- NX: number of grid points in the x-direction\n",
    "- NY: number of grid points in the y-direction\n",
    "- DH: distance between grid points\n",
    "\n",
    "I repeat the same stability check than the one performed by the code."
   ]
  },
  {
   "cell_type": "code",
   "execution_count": 15,
   "id": "22100a1c",
   "metadata": {},
   "outputs": [
    {
     "name": "stdout",
     "output_type": "stream",
     "text": [
      "Grid has the following dimensions. X:300,Y:7000 with a grid distance 0.001\n",
      "Minimum grid size required for stability: 0.02083 vs 0.001\n"
     ]
    }
   ],
   "source": [
    "print('Grid has the following dimensions. X:'+str(np.round(NX))+',Y:'+str(np.round(NY))+' with a grid distance '+str(np.round(dh_model,decimals=5)))\n",
    "vmin=1000\n",
    "fc=MaxFrequency\n",
    "N=12\n",
    "dh_min=np.round(vmin/(fc*N),decimals=5)\n",
    "print('Minimum grid size required for stability: '+str(dh_min)+' vs '+str(dh_model))"
   ]
  },
  {
   "cell_type": "markdown",
   "id": "98712290",
   "metadata": {},
   "source": [
    "##### JSON Update"
   ]
  },
  {
   "cell_type": "code",
   "execution_count": 16,
   "id": "05289972",
   "metadata": {},
   "outputs": [
    {
     "data": {
      "text/plain": [
       "62"
      ]
     },
     "execution_count": 16,
     "metadata": {},
     "output_type": "execute_result"
    }
   ],
   "source": [
    "line1=('\"2-D Grid\":\"comment\",')\n",
    "line2=('\"NX\":\"'+str(NX)+'\",')\n",
    "line3=('\"NY\":\"'+str(NY)+'\",')\n",
    "line4=('\"DH\":\"'+str(dh_model)+'\",')\n",
    "jsonfile.write('\\n{}\\n{}\\n{}\\n{}\\n'.format(line1,line2,line3,line4))"
   ]
  },
  {
   "cell_type": "markdown",
   "id": "08a53783",
   "metadata": {},
   "source": [
    "#### 4.4 Time stepping\n",
    "This step i double check that my time stepping is compliant with the minimum value\n",
    "Parameters are:\n",
    "- TIME: Experiment time\n",
    "- DT: Time stepping interval"
   ]
  },
  {
   "cell_type": "code",
   "execution_count": 17,
   "id": "7775c386",
   "metadata": {},
   "outputs": [
    {
     "name": "stdout",
     "output_type": "stream",
     "text": [
      "Minimum step size required for stability: 2e-07 vs 2.514e-06 for FDORDER_TIME=2\n",
      "Minimum step size required for stability: 1.71e-07 vs 2.514e-06 for FDORDER_TIME=4\n"
     ]
    }
   ],
   "source": [
    "h_value=h_Taylor_N2[0]\n",
    "vmax=3544\n",
    "dt_min_N2=np.round(dh_model/(h_value*np.sqrt(2)*vmax),decimals=9)\n",
    "dt_min_N4=np.round(6*dh_model/(7*h_value*np.sqrt(2)*vmax),decimals=9)\n",
    "print('Minimum step size required for stability: '+str(dt_min_N2)+' vs '+str(dt_model)+' for FDORDER_TIME=2')\n",
    "print('Minimum step size required for stability: '+str(dt_min_N4)+' vs '+str(dt_model)+' for FDORDER_TIME=4')"
   ]
  },
  {
   "cell_type": "markdown",
   "id": "42ade8da",
   "metadata": {},
   "source": [
    "##### JSON Update"
   ]
  },
  {
   "cell_type": "code",
   "execution_count": 18,
   "id": "4ad8340f",
   "metadata": {},
   "outputs": [
    {
     "data": {
      "text/plain": [
       "63"
      ]
     },
     "execution_count": 18,
     "metadata": {},
     "output_type": "execute_result"
    }
   ],
   "source": [
    "line1=('\"Time Stepping\":\"comment\",')\n",
    "line2=('\"TIME\":\"'+str(T_length)+'\",')\n",
    "line3=('\"DT\":\"'+str(dt_model)+'\",')\n",
    "jsonfile.write('\\n{}\\n{}\\n{}\\n'.format(line1,line2,line3))"
   ]
  },
  {
   "cell_type": "markdown",
   "id": "29beace4",
   "metadata": {},
   "source": [
    "#### 4.5 Source\n",
    "In this section I define the shape, source type and location of sources.\n",
    "Parameters are:\n",
    "- SOURCE_SHAPE: Shape of source signal (Ricker=1, Fumue=2, using SIGNAL_FILE=3, sinus^3=4)\n",
    "- SOURCE_TYPE: Point source (explosive=1, force in x=2, force in y=3)\n",
    "- PLANE_WAVE_DEPTH: Depth of plane wave excitation in meters (if no=0)\n",
    "- PLANE_WAVE_ANGLE: Dip of plane wave from vertical (in deg)\n",
    "- TS: Duration of source signal\n",
    "- SIGNAL_FILE: External signal file name\n",
    "- SRCREC: Read source positions from external SOURCE_FILE (yes=1)\n",
    "- SOURCE_FILE: File with source locations\n",
    "- RUN_MULTIPLE_SHOTS: Multiple shots modeled simultaneously (0) or individually (1)\n",
    "\n",
    "I subdivide this interval into Source Shape and Source Type/Location sections\n",
    "\n",
    "##### Source Shape\n",
    "Along this section I define the source shape. In case I use a plane wave, then SOURCE_SHAPE applies to the experiment, otherwise it is defined for each source in the source file.\n"
   ]
  },
  {
   "cell_type": "code",
   "execution_count": 53,
   "id": "0db2dba8",
   "metadata": {},
   "outputs": [
    {
     "name": "stdout",
     "output_type": "stream",
     "text": [
      "597\n",
      "2.514e-06 2.514e-06\n"
     ]
    },
    {
     "data": {
      "image/png": "[encoded data removed]",
      "text/plain": [
       "<Figure size 432x288 with 3 Axes>"
      ]
     },
     "metadata": {
      "needs_background": "light"
     },
     "output_type": "display_data"
    }
   ],
   "source": [
    "#Source shapes\n",
    "TS=1.5/1000                #Duration of source signal (s)\n",
    "FC=2000                #Central frequency (Hz)\n",
    "TD=0/1000                #Time delay (s)\n",
    "#Defining the time vector\n",
    "t=np.arange(0,TS,dt_model)\n",
    "dt_modelplot=dt_model\n",
    "# t=np.linspace(0,(2**8-1)*dt_modelplot,2**8)\n",
    "print(len(t))\n",
    "print(dt_modelplot,(t[1]-t[0]))\n",
    "#Ricker wavelet\n",
    "tau=np.pi*(t-1.5/FC-TD)/(1/FC)\n",
    "r=(1-2*tau**2)*np.exp(-tau**2)\n",
    "#Fuchs-Muller wavelet\n",
    "fm=np.zeros(len(t))\n",
    "scube=np.zeros(len(t))\n",
    "for n in range(len(t)):\n",
    "    if n*dt_modelplot>=TD and n*dt_modelplot<=TD+1/FC:\n",
    "        fm[n]=np.sin(2*np.pi*(n*dt_modelplot-TD)*FC)-0.5*np.sin(4*np.pi*(n*dt_modelplot-TD)*FC)\n",
    "    else:\n",
    "        fm[n]=0\n",
    "#Sin^3 wavelet\n",
    "for n in range(len(t)):\n",
    "    if n*dt_modelplot>=TD and n*dt_modelplot<=TD+1/FC:\n",
    "        scube[n]=0.00005*np.pi*FC*(np.sin(np.pi*(n*dt_modelplot-TD)*FC))**3\n",
    "    else:\n",
    "        scube[n]=0\n",
    "\n",
    "f_x=fftshift(fftfreq(len(t),d=dt_modelplot))\n",
    "fft_r=fftshift(fft(r))\n",
    "f_r_amp=np.abs(fft_r)\n",
    "f_r_phase=np.angle(fft_r)\n",
    "fft_fm=fftshift(fft(fm))\n",
    "f_fm_amp=np.abs(fft_fm)\n",
    "f_fm_phase=np.angle(fft_fm)\n",
    "fft_scube=fftshift(fft(scube))\n",
    "f_scube_amp=np.abs(fft_scube)\n",
    "f_scube_phase=np.angle(fft_scube)\n",
    "\n",
    "plt.subplot(221)\n",
    "plt.plot(t,r,'black',label='Ricker')\n",
    "plt.plot(t,fm,'blue',label='Fuchs-Muller')\n",
    "plt.plot(t,scube,'red',label='Sin^3')\n",
    "plt.legend(); plt.grid()\n",
    "plt.title('Source Shapes')\n",
    "plt.xlabel('Time (s)'); plt.ylabel('Amplitude (-)')\n",
    "plt.subplot(223)\n",
    "plt.plot(f_x,f_r_amp,'black',label='Ricker')\n",
    "plt.plot(f_x,f_fm_amp,'blue',label='Fuchs-Muller')\n",
    "plt.plot(f_x,f_scube_amp,'red',label='Sin^3')\n",
    "plt.legend(); plt.grid()\n",
    "plt.title('Source Frequency')\n",
    "plt.xlabel('Time (s)'); plt.ylabel('Amplitude (-)')\n",
    "plt.xlim(0,MaxFrequency)\n",
    "plt.subplot(224)\n",
    "plt.plot(f_x,f_r_phase,'black',label='Ricker')\n",
    "plt.plot(f_x,f_fm_phase,'blue',label='Fuchs-Muller')\n",
    "plt.plot(f_x,f_scube_phase,'red',label='Sin^3')\n",
    "plt.legend(); plt.grid()\n",
    "plt.title('Source Phase')\n",
    "plt.xlabel('Time (s)'); plt.ylabel('Phase (rad)')\n",
    "plt.xlim(0,MaxFrequency)\n",
    "plt.subplots_adjust(left=0.0, bottom=0.0, right=2, top=2, wspace=0.2, hspace=0.2)"
   ]
  },
  {
   "cell_type": "code",
   "execution_count": 54,
   "id": "315ddd23",
   "metadata": {},
   "outputs": [],
   "source": [
    "SOURCE_SHAPE=1\n",
    "SIGNAL_FILE='signal_mseis.tz'\n",
    "SRCREC=1\n",
    "SOURCE_FILE='./sources/source.dat'\n",
    "RUN_MULTIPLE_SHOTS=0"
   ]
  },
  {
   "cell_type": "markdown",
   "id": "79e46a06",
   "metadata": {},
   "source": [
    "##### Source Type/Location\n",
    "###### Plane wave\n",
    "\n",
    "Plane waves are generated from a line source defined all along the domain.\n",
    "In case a plane wave is used, the following parameters are required:\n",
    "- PLANE_WAVE_DEPTH: Depth of plane wave excitation in meters (if no=0)\n",
    "- PLANE_WAVE_ANGLE: Dip of plane wave from vertical (in deg)\n",
    "Also, we recommend to set this parameter:\n",
    "- SRCREC: Read source positions from external SOURCE_FILE (no=0)\n",
    "\n",
    "The following code allows to interactively see the location and propagation direction of the plane wave"
   ]
  },
  {
   "cell_type": "code",
   "execution_count": 55,
   "id": "5fce0802",
   "metadata": {},
   "outputs": [
    {
     "name": "stderr",
     "output_type": "stream",
     "text": [
      "<ipython-input-55-fba3619ca891>:5: RuntimeWarning: divide by zero encountered in double_scalars\n",
      "  x_bottom=(Y_length-PLANE_WAVE_DEPTH)/np.tan(PLANE_WAVE_ANGLE*np.pi/180)\n"
     ]
    },
    {
     "ename": "OverflowError",
     "evalue": "cannot convert float infinity to integer",
     "output_type": "error",
     "traceback": [
      "\u001b[1;31m---------------------------------------------------------------------------\u001b[0m",
      "\u001b[1;31mOverflowError\u001b[0m                             Traceback (most recent call last)",
      "\u001b[1;32m<ipython-input-55-fba3619ca891>\u001b[0m in \u001b[0;36m<module>\u001b[1;34m\u001b[0m\n\u001b[0;32m      7\u001b[0m \u001b[0mplt\u001b[0m\u001b[1;33m.\u001b[0m\u001b[0msubplot\u001b[0m\u001b[1;33m(\u001b[0m\u001b[1;36m1\u001b[0m\u001b[1;33m,\u001b[0m\u001b[1;36m2\u001b[0m\u001b[1;33m,\u001b[0m\u001b[1;36m1\u001b[0m\u001b[1;33m)\u001b[0m\u001b[1;33m\u001b[0m\u001b[1;33m\u001b[0m\u001b[0m\n\u001b[0;32m      8\u001b[0m \u001b[0mim1\u001b[0m \u001b[1;33m=\u001b[0m \u001b[0mplt\u001b[0m\u001b[1;33m.\u001b[0m\u001b[0mcontourf\u001b[0m\u001b[1;33m(\u001b[0m\u001b[0mxx_grid\u001b[0m\u001b[1;33m.\u001b[0m\u001b[0mT\u001b[0m\u001b[1;33m,\u001b[0m \u001b[0myy_grid\u001b[0m\u001b[1;33m.\u001b[0m\u001b[0mT\u001b[0m\u001b[1;33m,\u001b[0m \u001b[0mzz_Vp\u001b[0m\u001b[1;33m,\u001b[0m\u001b[1;36m500\u001b[0m\u001b[1;33m,\u001b[0m\u001b[0mcmap\u001b[0m\u001b[1;33m=\u001b[0m\u001b[0mplt\u001b[0m\u001b[1;33m.\u001b[0m\u001b[0mcm\u001b[0m\u001b[1;33m.\u001b[0m\u001b[0mjet\u001b[0m\u001b[1;33m,\u001b[0m\u001b[0mnorm\u001b[0m\u001b[1;33m=\u001b[0m\u001b[1;32mNone\u001b[0m\u001b[1;33m)\u001b[0m\u001b[1;33m\u001b[0m\u001b[1;33m\u001b[0m\u001b[0m\n\u001b[1;32m----> 9\u001b[1;33m \u001b[0mplt\u001b[0m\u001b[1;33m.\u001b[0m\u001b[0mplot\u001b[0m\u001b[1;33m(\u001b[0m\u001b[1;33m[\u001b[0m\u001b[1;36m0\u001b[0m\u001b[1;33m,\u001b[0m\u001b[0mint\u001b[0m\u001b[1;33m(\u001b[0m\u001b[0mnp\u001b[0m\u001b[1;33m.\u001b[0m\u001b[0mround\u001b[0m\u001b[1;33m(\u001b[0m\u001b[0mx_bottom\u001b[0m\u001b[1;33m/\u001b[0m\u001b[0mdh_model\u001b[0m\u001b[1;33m)\u001b[0m\u001b[1;33m)\u001b[0m\u001b[1;33m]\u001b[0m\u001b[1;33m,\u001b[0m\u001b[1;33m[\u001b[0m\u001b[0mint\u001b[0m\u001b[1;33m(\u001b[0m\u001b[0mnp\u001b[0m\u001b[1;33m.\u001b[0m\u001b[0mround\u001b[0m\u001b[1;33m(\u001b[0m\u001b[0mPLANE_WAVE_DEPTH\u001b[0m\u001b[1;33m/\u001b[0m\u001b[0mdh_model\u001b[0m\u001b[1;33m)\u001b[0m\u001b[1;33m)\u001b[0m\u001b[1;33m,\u001b[0m\u001b[0mint\u001b[0m\u001b[1;33m(\u001b[0m\u001b[0mnp\u001b[0m\u001b[1;33m.\u001b[0m\u001b[0mround\u001b[0m\u001b[1;33m(\u001b[0m\u001b[0mY_length\u001b[0m\u001b[1;33m/\u001b[0m\u001b[0mdh_model\u001b[0m\u001b[1;33m)\u001b[0m\u001b[1;33m)\u001b[0m\u001b[1;33m]\u001b[0m\u001b[1;33m,\u001b[0m\u001b[1;34m'red'\u001b[0m\u001b[1;33m,\u001b[0m\u001b[0mlabel\u001b[0m\u001b[1;33m=\u001b[0m\u001b[1;34m'Plane wave source'\u001b[0m\u001b[1;33m)\u001b[0m\u001b[1;33m\u001b[0m\u001b[1;33m\u001b[0m\u001b[0m\n\u001b[0m\u001b[0;32m     10\u001b[0m \u001b[0mplt\u001b[0m\u001b[1;33m.\u001b[0m\u001b[0mxlim\u001b[0m\u001b[1;33m(\u001b[0m\u001b[1;36m0\u001b[0m\u001b[1;33m,\u001b[0m\u001b[0mNX\u001b[0m\u001b[1;33m-\u001b[0m\u001b[1;36m1\u001b[0m\u001b[1;33m)\u001b[0m \u001b[1;33m;\u001b[0m \u001b[0mplt\u001b[0m\u001b[1;33m.\u001b[0m\u001b[0mylim\u001b[0m\u001b[1;33m(\u001b[0m\u001b[1;36m0\u001b[0m\u001b[1;33m,\u001b[0m\u001b[0mNY\u001b[0m\u001b[1;33m-\u001b[0m\u001b[1;36m1\u001b[0m\u001b[1;33m)\u001b[0m\u001b[1;33m\u001b[0m\u001b[1;33m\u001b[0m\u001b[0m\n\u001b[0;32m     11\u001b[0m \u001b[0mplt\u001b[0m\u001b[1;33m.\u001b[0m\u001b[0mlegend\u001b[0m\u001b[1;33m(\u001b[0m\u001b[1;33m)\u001b[0m\u001b[1;33m\u001b[0m\u001b[1;33m\u001b[0m\u001b[0m\n",
      "\u001b[1;31mOverflowError\u001b[0m: cannot convert float infinity to integer"
     ]
    },
    {
     "data": {
      "image/png": "[encoded data removed]",
      "text/plain": [
       "<Figure size 432x288 with 1 Axes>"
      ]
     },
     "metadata": {
      "needs_background": "light"
     },
     "output_type": "display_data"
    }
   ],
   "source": [
    "PLANE_WAVE_DEPTH=0                       #in m\n",
    "PLANE_WAVE_ANGLE=0                       #in deg\n",
    "# TS=0.2\n",
    "#The line source is defined as a slope y=a+bx where a=PLANE_WAVE_DEPTH and b=tan(PLANE_WAVE_ANGLE)\n",
    "x_bottom=(Y_length-PLANE_WAVE_DEPTH)/np.tan(PLANE_WAVE_ANGLE*np.pi/180)\n",
    "\n",
    "plt.subplot(1,2,1)\n",
    "im1 = plt.contourf(xx_grid.T, yy_grid.T, zz_Vp,500,cmap=plt.cm.jet,norm=None)\n",
    "plt.plot([0,int(np.round(x_bottom/dh_model))],[int(np.round(PLANE_WAVE_DEPTH/dh_model)),int(np.round(Y_length/dh_model))],'red',label='Plane wave source')\n",
    "plt.xlim(0,NX-1) ; plt.ylim(0,NY-1)\n",
    "plt.legend()\n",
    "plt.title('Plane wave - Line')\n",
    "plt.xlabel('x (grid number)'); plt.ylabel('y (grid number)')\n",
    "cbar = plt.colorbar(im1, orientation = 'vertical')\n",
    "cbar.set_label(\"P-wave velocity (m/s)\")\n",
    "\n",
    "y_source=np.linspace(0,NY-1,NY-1)\n",
    "x_source=np.linspace(0,NY-1,NY-1)\n",
    "for n in range(NY-1):\n",
    "    x_source[n]=int(np.round((NY-int(np.round(PLANE_WAVE_DEPTH/dh_model)))/np.tan(PLANE_WAVE_ANGLE*np.pi/180)/dh_model))\n",
    "plt.subplot(1,2,2)\n",
    "im1 = plt.contourf(xx_grid.T, yy_grid.T, zz_Vp,500,cmap=plt.cm.jet,norm=None)\n",
    "plt.scatter(x_source,y_source, color='black',label='Source Location')\n",
    "plt.xlim(0,NX-1) ; plt.ylim(0,NY-1)\n",
    "plt.legend()\n",
    "plt.title('Plane wave - Grid')\n",
    "plt.xlabel('x (grid number)'); plt.ylabel('y (grid number)')\n",
    "cbar = plt.colorbar(im1, orientation = 'vertical')\n",
    "cbar.set_label(\"P-wave velocity (m/s)\")\n",
    "\n",
    "plt.subplots_adjust(left=0.0, bottom=0.0, right=2.0, top=1, wspace=0.2, hspace=0.2)"
   ]
  },
  {
   "cell_type": "markdown",
   "id": "a0440c13",
   "metadata": {},
   "source": [
    "##### Point sources\n",
    "In this section I generate a single set of point sources defined from a line vector.\n",
    "This definition requires the generation of an ASCII file (SOURCE_FILE). In the JSON file, the following parameters are required:\n",
    "- PLANE_WAVE_DEPTH: 0 (Recommended)\n",
    "- SRCREC: 1\n",
    "- SOURCE_FILE: './sources/source.dat'\n",
    "\n",
    "SOURCE_FILE parameters are:\n",
    "- XSRC: x-coordinate of a source point (in m)\n",
    "- YSRC: y-coordinate of a source point (in m)\n",
    "- TD: excitation time-delay for the source point (in s)\n",
    "- FC: center frequency of the source signal (in Hz)\n",
    "- AMP: maximum amplitude of the source signal\n",
    "- SOURCE_AZIMUTH (Optional): angle between y- and x- direction (activated if SOURCE_TYPE=4)\n",
    "- SOURCE_TYPE (Optional): source type (explosive=1, force in x=2, force in y=3, SOURCE_AZIMUTH=4). If this value is set, SOURCE_TYPE in here overrides SOURCE_TYPE from the JSON file\n",
    "\n",
    "\n"
   ]
  },
  {
   "cell_type": "code",
   "execution_count": 56,
   "id": "07ddf0a9",
   "metadata": {},
   "outputs": [
    {
     "data": {
      "image/png": "[encoded data removed]",
      "text/plain": [
       "<Figure size 432x288 with 2 Axes>"
      ]
     },
     "metadata": {
      "needs_background": "light"
     },
     "output_type": "display_data"
    }
   ],
   "source": [
    "#Define coordinates for source\n",
    "SourceFileinput=np.zeros([0,7])\n",
    "#Source set 1\n",
    "x_start=0.046\n",
    "x_end=0.046\n",
    "y_start=0.7\n",
    "y_end=0.8\n",
    "spacing=0.0002\n",
    "TD=0/10000\n",
    "FC=2000\n",
    "AMP=1\n",
    "SOURCE_AZIMUTH=0\n",
    "SOURCE_TYPE=1\n",
    "\n",
    "Array_raw=LinearArray(x_start,x_end,y_start,y_end,spacing)\n",
    "Array=TRplacement(dh_model,0,0,Array_raw)\n",
    "Source_addon=np.zeros([len(Array),7])\n",
    "for n in range(len(Array)):\n",
    "    Source_addon[n,0]=Array[n,0]\n",
    "    Source_addon[n,1]=Array[n,1]\n",
    "    Source_addon[n,2]=TD\n",
    "    Source_addon[n,3]=FC\n",
    "    Source_addon[n,4]=AMP\n",
    "    Source_addon[n,5]=SOURCE_AZIMUTH\n",
    "    Source_addon[n,6]=SOURCE_TYPE\n",
    "SourceFileinput=np.vstack((SourceFileinput,Source_addon))\n",
    "#Source set 2\n",
    "# for n in range(len(Array)):\n",
    "#     Source_addon[n,0]=Array[n,0]-dh_model\n",
    "#     Source_addon[n,1]=Array[n,1]-dh_model\n",
    "#     Source_addon[n,2]=TD\n",
    "#     Source_addon[n,3]=FC\n",
    "#     Source_addon[n,4]=-AMP\n",
    "#     Source_addon[n,5]=SOURCE_AZIMUTH\n",
    "#     Source_addon[n,6]=SOURCE_TYPE\n",
    "# SourceFileinput=np.vstack((SourceFileinput,Source_addon))\n",
    "\n",
    "im1 = plt.contourf(xx_grid.T, yy_grid.T, zz_Vp,500,cmap=plt.cm.jet,norm=None)\n",
    "plt.scatter(SourceFileinput[:,0]/dh_model,SourceFileinput[:,1]/dh_model, color='black',label='Source Location')\n",
    "plt.xlim(0,NX-1) ; plt.ylim(0,NY-1)\n",
    "plt.legend()\n",
    "plt.title('Plane wave - Line')\n",
    "plt.xlabel('x (grid number)'); plt.ylabel('y (grid number)')\n",
    "cbar = plt.colorbar(im1, orientation = 'vertical')\n",
    "cbar.set_label(\"P-wave velocity (m/s)\")"
   ]
  },
  {
   "cell_type": "markdown",
   "id": "404bb924",
   "metadata": {},
   "source": [
    "##### Writing SOURCEFILE"
   ]
  },
  {
   "cell_type": "code",
   "execution_count": 57,
   "id": "76c44af0",
   "metadata": {},
   "outputs": [],
   "source": [
    "Decimals=5\n",
    "file=open('source.dat','w')\n",
    "for n in range(len(SourceFileinput)):\n",
    "    file.write('{} {} {} {} {} {} {}\\n'.format(np.round(SourceFileinput[n,0],decimals=Decimals),np.round(SourceFileinput[n,1],decimals=Decimals),np.round(SourceFileinput[n,2],decimals=Decimals),np.round(SourceFileinput[n,3],decimals=Decimals),np.round(SourceFileinput[n,4],decimals=Decimals),np.round(SourceFileinput[n,5],decimals=Decimals),np.round(SourceFileinput[n,6],decimals=Decimals)))\n",
    "file.close()"
   ]
  },
  {
   "cell_type": "code",
   "execution_count": 58,
   "id": "d8e699f1",
   "metadata": {},
   "outputs": [
    {
     "name": "stdout",
     "output_type": "stream",
     "text": [
      "0.046 0.699 0.0 2000.0 1.0 0.0 1.0\n",
      "0.046 0.7 0.0 2000.0 1.0 0.0 1.0\n",
      "0.046 0.701 0.0 2000.0 1.0 0.0 1.0\n",
      "0.046 0.702 0.0 2000.0 1.0 0.0 1.0\n",
      "0.046 0.703 0.0 2000.0 1.0 0.0 1.0\n",
      "0.046 0.704 0.0 2000.0 1.0 0.0 1.0\n",
      "0.046 0.705 0.0 2000.0 1.0 0.0 1.0\n",
      "0.046 0.706 0.0 2000.0 1.0 0.0 1.0\n",
      "0.046 0.707 0.0 2000.0 1.0 0.0 1.0\n",
      "0.046 0.708 0.0 2000.0 1.0 0.0 1.0\n",
      "0.046 0.709 0.0 2000.0 1.0 0.0 1.0\n",
      "0.046 0.71 0.0 2000.0 1.0 0.0 1.0\n",
      "0.046 0.711 0.0 2000.0 1.0 0.0 1.0\n",
      "0.046 0.712 0.0 2000.0 1.0 0.0 1.0\n",
      "0.046 0.713 0.0 2000.0 1.0 0.0 1.0\n",
      "0.046 0.714 0.0 2000.0 1.0 0.0 1.0\n",
      "0.046 0.715 0.0 2000.0 1.0 0.0 1.0\n",
      "0.046 0.716 0.0 2000.0 1.0 0.0 1.0\n",
      "0.046 0.717 0.0 2000.0 1.0 0.0 1.0\n",
      "0.046 0.718 0.0 2000.0 1.0 0.0 1.0\n",
      "0.046 0.719 0.0 2000.0 1.0 0.0 1.0\n",
      "0.046 0.72 0.0 2000.0 1.0 0.0 1.0\n",
      "0.046 0.721 0.0 2000.0 1.0 0.0 1.0\n",
      "0.046 0.722 0.0 2000.0 1.0 0.0 1.0\n",
      "0.046 0.723 0.0 2000.0 1.0 0.0 1.0\n",
      "0.046 0.724 0.0 2000.0 1.0 0.0 1.0\n",
      "0.046 0.725 0.0 2000.0 1.0 0.0 1.0\n",
      "0.046 0.726 0.0 2000.0 1.0 0.0 1.0\n",
      "0.046 0.727 0.0 2000.0 1.0 0.0 1.0\n",
      "0.046 0.728 0.0 2000.0 1.0 0.0 1.0\n",
      "0.046 0.729 0.0 2000.0 1.0 0.0 1.0\n",
      "0.046 0.73 0.0 2000.0 1.0 0.0 1.0\n",
      "0.046 0.731 0.0 2000.0 1.0 0.0 1.0\n",
      "0.046 0.732 0.0 2000.0 1.0 0.0 1.0\n",
      "0.046 0.733 0.0 2000.0 1.0 0.0 1.0\n",
      "0.046 0.734 0.0 2000.0 1.0 0.0 1.0\n",
      "0.046 0.735 0.0 2000.0 1.0 0.0 1.0\n",
      "0.046 0.736 0.0 2000.0 1.0 0.0 1.0\n",
      "0.046 0.737 0.0 2000.0 1.0 0.0 1.0\n",
      "0.046 0.738 0.0 2000.0 1.0 0.0 1.0\n",
      "0.046 0.739 0.0 2000.0 1.0 0.0 1.0\n",
      "0.046 0.74 0.0 2000.0 1.0 0.0 1.0\n",
      "0.046 0.741 0.0 2000.0 1.0 0.0 1.0\n",
      "0.046 0.742 0.0 2000.0 1.0 0.0 1.0\n",
      "0.046 0.743 0.0 2000.0 1.0 0.0 1.0\n",
      "0.046 0.744 0.0 2000.0 1.0 0.0 1.0\n",
      "0.046 0.745 0.0 2000.0 1.0 0.0 1.0\n",
      "0.046 0.746 0.0 2000.0 1.0 0.0 1.0\n",
      "0.046 0.747 0.0 2000.0 1.0 0.0 1.0\n",
      "0.046 0.748 0.0 2000.0 1.0 0.0 1.0\n",
      "0.046 0.749 0.0 2000.0 1.0 0.0 1.0\n",
      "0.046 0.75 0.0 2000.0 1.0 0.0 1.0\n",
      "0.046 0.751 0.0 2000.0 1.0 0.0 1.0\n",
      "0.046 0.752 0.0 2000.0 1.0 0.0 1.0\n",
      "0.046 0.753 0.0 2000.0 1.0 0.0 1.0\n",
      "0.046 0.754 0.0 2000.0 1.0 0.0 1.0\n",
      "0.046 0.755 0.0 2000.0 1.0 0.0 1.0\n",
      "0.046 0.756 0.0 2000.0 1.0 0.0 1.0\n",
      "0.046 0.757 0.0 2000.0 1.0 0.0 1.0\n",
      "0.046 0.758 0.0 2000.0 1.0 0.0 1.0\n",
      "0.046 0.759 0.0 2000.0 1.0 0.0 1.0\n",
      "0.046 0.76 0.0 2000.0 1.0 0.0 1.0\n",
      "0.046 0.761 0.0 2000.0 1.0 0.0 1.0\n",
      "0.046 0.762 0.0 2000.0 1.0 0.0 1.0\n",
      "0.046 0.763 0.0 2000.0 1.0 0.0 1.0\n",
      "0.046 0.764 0.0 2000.0 1.0 0.0 1.0\n",
      "0.046 0.765 0.0 2000.0 1.0 0.0 1.0\n",
      "0.046 0.766 0.0 2000.0 1.0 0.0 1.0\n",
      "0.046 0.767 0.0 2000.0 1.0 0.0 1.0\n",
      "0.046 0.768 0.0 2000.0 1.0 0.0 1.0\n",
      "0.046 0.769 0.0 2000.0 1.0 0.0 1.0\n",
      "0.046 0.77 0.0 2000.0 1.0 0.0 1.0\n",
      "0.046 0.771 0.0 2000.0 1.0 0.0 1.0\n",
      "0.046 0.772 0.0 2000.0 1.0 0.0 1.0\n",
      "0.046 0.773 0.0 2000.0 1.0 0.0 1.0\n",
      "0.046 0.774 0.0 2000.0 1.0 0.0 1.0\n",
      "0.046 0.775 0.0 2000.0 1.0 0.0 1.0\n",
      "0.046 0.776 0.0 2000.0 1.0 0.0 1.0\n",
      "0.046 0.777 0.0 2000.0 1.0 0.0 1.0\n",
      "0.046 0.778 0.0 2000.0 1.0 0.0 1.0\n",
      "0.046 0.779 0.0 2000.0 1.0 0.0 1.0\n",
      "0.046 0.78 0.0 2000.0 1.0 0.0 1.0\n",
      "0.046 0.781 0.0 2000.0 1.0 0.0 1.0\n",
      "0.046 0.782 0.0 2000.0 1.0 0.0 1.0\n",
      "0.046 0.783 0.0 2000.0 1.0 0.0 1.0\n",
      "0.046 0.784 0.0 2000.0 1.0 0.0 1.0\n",
      "0.046 0.785 0.0 2000.0 1.0 0.0 1.0\n",
      "0.046 0.786 0.0 2000.0 1.0 0.0 1.0\n",
      "0.046 0.787 0.0 2000.0 1.0 0.0 1.0\n",
      "0.046 0.788 0.0 2000.0 1.0 0.0 1.0\n",
      "0.046 0.789 0.0 2000.0 1.0 0.0 1.0\n",
      "0.046 0.79 0.0 2000.0 1.0 0.0 1.0\n",
      "0.046 0.791 0.0 2000.0 1.0 0.0 1.0\n",
      "0.046 0.792 0.0 2000.0 1.0 0.0 1.0\n",
      "0.046 0.793 0.0 2000.0 1.0 0.0 1.0\n",
      "0.046 0.794 0.0 2000.0 1.0 0.0 1.0\n",
      "0.046 0.795 0.0 2000.0 1.0 0.0 1.0\n",
      "0.046 0.796 0.0 2000.0 1.0 0.0 1.0\n",
      "0.046 0.797 0.0 2000.0 1.0 0.0 1.0\n",
      "0.046 0.798 0.0 2000.0 1.0 0.0 1.0\n",
      "0.046 0.799 0.0 2000.0 1.0 0.0 1.0\n",
      "\n"
     ]
    }
   ],
   "source": [
    "file=open('source.dat','r')\n",
    "print(file.read())"
   ]
  },
  {
   "cell_type": "code",
   "execution_count": 25,
   "id": "fdf76be9",
   "metadata": {},
   "outputs": [
    {
     "data": {
      "text/plain": [
       "235"
      ]
     },
     "execution_count": 25,
     "metadata": {},
     "output_type": "execute_result"
    }
   ],
   "source": [
    "line1=('\"Sources\":\"comment\",')\n",
    "line2=('\"SOURCE_SHAPE\":\"'+str(SOURCE_SHAPE)+'\",')\n",
    "line3=('\"SIGNAL_FILE\":\"'+str(SIGNAL_FILE)+'\",')\n",
    "line4=('\"SOURCE_TYPE\":\"'+str(SOURCE_TYPE)+'\",')\n",
    "line5=('\"SRCREC\":\"'+str(SRCREC)+'\",')\n",
    "line6=('\"SOURCE_FILE\":\"'+str(SOURCE_FILE)+'\",')\n",
    "line7=('\"RUN_MULTIPLE_SHOTS\":\"'+str(RUN_MULTIPLE_SHOTS)+'\",')\n",
    "line8=('\"PLANE_WAVE_DEPTH\":\"'+str(PLANE_WAVE_DEPTH)+'\",')\n",
    "line9=('\"PLANE_WAVE_ANGLE\":\"'+str(PLANE_WAVE_ANGLE)+'\",')\n",
    "line10=('\"TS\":\"'+str(TS)+'\",')\n",
    "jsonfile.write('\\n{}\\n{}\\n{}\\n{}\\n{}\\n{}\\n{}\\n{}\\n{}\\n{}\\n'.format(line1,line2,line3,line4,line5,line6,line7,line8,line9,line10))"
   ]
  },
  {
   "cell_type": "markdown",
   "id": "73f5bcf2",
   "metadata": {},
   "source": [
    "#### 4.6 Generation of models\n",
    "In this section I choose the input models. In case I use the models designed before in Section 2, then READMOD=1\n",
    "Parameters are:\n",
    "- READMOD: read model parameter from MFILE (Yes=1)\n",
    "- MFILE: String for model file names\n",
    "- WRITE_MODELS: Switch to decide if models are written to file (No model=0, all models=1, only density=2)"
   ]
  },
  {
   "cell_type": "code",
   "execution_count": 26,
   "id": "51e1775b",
   "metadata": {},
   "outputs": [],
   "source": [
    "READMOD=1\n",
    "MFILE='model/test'\n",
    "WRITE_MODELFILES=1"
   ]
  },
  {
   "cell_type": "markdown",
   "id": "05ed2151",
   "metadata": {},
   "source": [
    "##### JSON Update"
   ]
  },
  {
   "cell_type": "code",
   "execution_count": 27,
   "id": "549de7d1",
   "metadata": {},
   "outputs": [
    {
     "data": {
      "text/plain": [
       "92"
      ]
     },
     "execution_count": 27,
     "metadata": {},
     "output_type": "execute_result"
    }
   ],
   "source": [
    "line1=('\"Model Generation\":\"comment\",')\n",
    "line2=('\"READMOD\":\"'+str(READMOD)+'\",')\n",
    "line3=('\"MFILE\":\"'+str(MFILE)+'\",')\n",
    "line4=('\"WRITE_MODELFILES\":\"'+str(WRITE_MODELFILES)+'\",')\n",
    "jsonfile.write('\\n{}\\n{}\\n{}\\n{}\\n'.format(line1,line2,line3,line4))"
   ]
  },
  {
   "cell_type": "markdown",
   "id": "0253e3ab",
   "metadata": {},
   "source": [
    "#### 4.7 Q-approximation\n",
    "This section is to choose whether the model behaves as an elastic or viscoelastic model.\n",
    "Parameters are:\n",
    "- L: Number of relaxation mechanisms (elastic=0, >0 viscoelastic)\n",
    "- FLn: Relaxation frequency (one for each relaxation mechanism)\n",
    "- TAU: T-> check Bohlen 2002"
   ]
  },
  {
   "cell_type": "code",
   "execution_count": 29,
   "id": "5bdf6e7f",
   "metadata": {},
   "outputs": [],
   "source": [
    "L=0\n",
    "FL1=4000\n",
    "TAU=0"
   ]
  },
  {
   "cell_type": "markdown",
   "id": "40c129e4",
   "metadata": {},
   "source": [
    "##### JSON Update"
   ]
  },
  {
   "cell_type": "code",
   "execution_count": 30,
   "id": "9edef30f",
   "metadata": {},
   "outputs": [
    {
     "data": {
      "text/plain": [
       "64"
      ]
     },
     "execution_count": 30,
     "metadata": {},
     "output_type": "execute_result"
    }
   ],
   "source": [
    "line1=('\"Q-Approximation\":\"comment\",')\n",
    "line2=('\"L\":\"'+str(L)+'\",')\n",
    "line3=('\"FL1\":\"'+str(FL1)+'\",')\n",
    "line4=('\"TAU\":\"'+str(TAU)+'\",')\n",
    "jsonfile.write('\\n{}\\n{}\\n{}\\n{}\\n'.format(line1,line2,line3,line4))"
   ]
  },
  {
   "cell_type": "markdown",
   "id": "c2ecce62",
   "metadata": {},
   "source": [
    "#### 4.8 Boundary conditions\n",
    "In this section I update the set up for boundary conditions. There are two options: CPML-Boundary and Damping-Boundary, each one with its own set of parameters.\n",
    "Parameters are:\n",
    "- FREE-SURF: free surface at the top of the model (Yes=1)\n",
    "- BOUNDARY: apply periodic boundary condition at edges (no=0, left and right=1)\n",
    "- FW: width of absorbing frame (in gridpoints, no=0)\n",
    "- ABS_TYPE: Type of absorbing boundary (CPML-Boundary=1, Damping-Boundary=2)\n",
    "For CPML-Boundary (ABS_TYPE=1) --> recommended width: 10-20 grid points\n",
    "- NPOWER: Check references\n",
    "- K_MAX_CPML: Check references\n",
    "- VPPML: approximately propagation velocity near borders\n",
    "- FPML: aproximately dominant frequency at borders\n",
    "For Damping-Boundary (ABS_TYPE=2) --> recommended width: >20 grid points\n",
    "- DAMPING: percentual factor per grid"
   ]
  },
  {
   "cell_type": "code",
   "execution_count": 31,
   "id": "41a77f6e",
   "metadata": {},
   "outputs": [],
   "source": [
    "FREE_SURF=0\n",
    "BOUNDARY=0\n",
    "FW=35\n",
    "ABS_TYPE=2\n",
    "NPOWER= 4\n",
    "K_MAX_CPML=1\n",
    "VPPML=3048\n",
    "FPML=8603\n",
    "DAMPING=8"
   ]
  },
  {
   "cell_type": "code",
   "execution_count": 32,
   "id": "4f036dca",
   "metadata": {},
   "outputs": [
    {
     "data": {
      "image/png": "[encoded data removed]",
      "text/plain": [
       "<Figure size 432x288 with 2 Axes>"
      ]
     },
     "metadata": {
      "needs_background": "light"
     },
     "output_type": "display_data"
    }
   ],
   "source": [
    "im1 = plt.contourf(xx_grid.T, yy_grid.T, zz_Vp,500,cmap=plt.cm.jet,norm=None)\n",
    "plt.scatter(SourceFileinput[:,0]/dh_model,SourceFileinput[:,1]/dh_model, color='black',label='Source Location')\n",
    "plt.plot([0,NX-1],[FW,FW],'black',linestyle='dashed')\n",
    "plt.plot([0,NX-1],[NY-FW-1,NY-FW-1],'black',linestyle='dashed')\n",
    "plt.plot([FW,FW],[0,NY-1],'black',linestyle='dashed')\n",
    "plt.plot([NX-FW-1,NX-FW-1],[0,NY-1],'black',linestyle='dashed')\n",
    "plt.xlim(0,NX-1) ; plt.ylim(0,NY-1)\n",
    "plt.legend()\n",
    "plt.title('Plane wave - Line')\n",
    "plt.xlabel('x (grid number)'); plt.ylabel('y (grid number)')\n",
    "cbar = plt.colorbar(im1, orientation = 'vertical')\n",
    "cbar.set_label(\"P-wave velocity (m/s)\")"
   ]
  },
  {
   "cell_type": "markdown",
   "id": "794f1ae3",
   "metadata": {},
   "source": [
    "##### JSON Update"
   ]
  },
  {
   "cell_type": "code",
   "execution_count": 33,
   "id": "e6676b4e",
   "metadata": {},
   "outputs": [
    {
     "data": {
      "text/plain": [
       "172"
      ]
     },
     "execution_count": 33,
     "metadata": {},
     "output_type": "execute_result"
    }
   ],
   "source": [
    "line1=('\"Boundary Conditions\":\"comment\",')\n",
    "line2=('\"FREE_SURF\":\"'+str(FREE_SURF)+'\",')\n",
    "line3=('\"BOUNDARY\":\"'+str(BOUNDARY)+'\",')\n",
    "line4=('\"FW\":\"'+str(FW)+'\",')\n",
    "line5=('\"ABS_TYPE\":\"'+str(ABS_TYPE)+'\",')\n",
    "line6=('\"NPOWER\":\"'+str(NPOWER)+'\",')\n",
    "line7=('\"K_MAX_CPML\":\"'+str(K_MAX_CPML)+'\",')\n",
    "line8=('\"VPPML\":\"'+str(VPPML)+'\",')\n",
    "line9=('\"FPML\":\"'+str(FPML)+'\",')\n",
    "line10=('\"DAMPING\":\"'+str(DAMPING)+'\",')\n",
    "jsonfile.write('\\n{}\\n{}\\n{}\\n{}\\n{}\\n{}\\n{}\\n{}\\n{}\\n{}\\n'.format(line1,line2,line3,line4,line5,line6,line7,line8,line9,line10))"
   ]
  },
  {
   "cell_type": "markdown",
   "id": "dcbe3885",
   "metadata": {},
   "source": [
    "#### 4.9 Wavefield snapshots\n",
    "In this section I set up what snapshots I want.\n",
    "Parameters are:\n",
    "- SNAP: Output type (no seismograms=0, particle-velocities=1, pressure field=2, curl and divergence energy=3, velocities, pressure and energy=4)\n",
    "- TSNAP: first snapshot (in s)\n",
    "- TSNAP: last snapshot (in s)\n",
    "- TSNAPINC: increment (in s)\n",
    "- IDX: increment x-direction (in grid points) -> higher values smaller resolution\n",
    "- IDY: increment y-direction (in grid points) -> higher values smaller resolution\n",
    "- SNAP_FORMAT: data format (ASCII=2, BINARY=3)\n",
    "- SNAP_FILE: snap filename"
   ]
  },
  {
   "cell_type": "code",
   "execution_count": 34,
   "id": "9fd2b7f6",
   "metadata": {},
   "outputs": [],
   "source": [
    "SNAP=4\n",
    "TSNAP1=T_length/50\n",
    "TSNAP2=T_length\n",
    "TSNAPINC=T_length/50\n",
    "IDX=25\n",
    "IDY=25\n",
    "SNAP_FORMAT=3\n",
    "SNAP_FILE='./snap/test'"
   ]
  },
  {
   "cell_type": "markdown",
   "id": "73a498d0",
   "metadata": {},
   "source": [
    "##### JSON Update"
   ]
  },
  {
   "cell_type": "code",
   "execution_count": 35,
   "id": "1ba4e9c6",
   "metadata": {},
   "outputs": [
    {
     "data": {
      "text/plain": [
       "207"
      ]
     },
     "execution_count": 35,
     "metadata": {},
     "output_type": "execute_result"
    }
   ],
   "source": [
    "line1=('\"Wavefield Snapshots\":\"comment\",')\n",
    "line2=('\"SNAP\":\"'+str(SNAP)+'\",')\n",
    "line3=('\"TSNAP1\":\"'+str(TSNAP1)+'\",')\n",
    "line4=('\"TSNAP2\":\"'+str(TSNAP2)+'\",')\n",
    "line5=('\"TSNAPINC\":\"'+str(TSNAPINC)+'\",')\n",
    "line6=('\"IDX\":\"'+str(IDX)+'\",')\n",
    "line7=('\"IDY\":\"'+str(IDY)+'\",')\n",
    "line8=('\"SNAP_FORMAT\":\"'+str(SNAP_FORMAT)+'\",')\n",
    "line9=('\"SNAP_FILE\":\"'+str(SNAP_FILE)+'\",')\n",
    "jsonfile.write('\\n{}\\n{}\\n{}\\n{}\\n{}\\n{}\\n{}\\n{}\\n{}\\n'.format(line1,line2,line3,line4,line5,line6,line7,line8,line9))"
   ]
  },
  {
   "cell_type": "markdown",
   "id": "e98976c9",
   "metadata": {},
   "source": [
    "#### 4.10 Receivers\n",
    "I design the receivers set as an array of receivers. If I want to a 'single receiver', I put a continuous line of receivers placed from a start to an end. If I want multiple receivers, I used the x and y start points for the first receivers and then I add another receiver at a specific distance.\n",
    "Parameters are:\n",
    "- SEISMO: output of seismograms (no seismograms=0, particle-velocities=1, pressure (hydrphone)=2, curl and dive=3, everything= 4)\n",
    "- READREC: Read receiver positions from file (Yes=1). If Yes, then XREC1, YREC1, XREC2, YREC2, and NGEOPH are ignored\n",
    "- REC_FILE: External receiver file name\n",
    "- REFREC: Reference point for receiver coordinate system\n",
    "- XREC1, YREC1: position of first receiver (in m)\n",
    "- XREC2, YREC2: position of last receiver (in m)\n",
    "- NGEOPH: distance between two adjacent receivers (in gridpoints)"
   ]
  },
  {
   "cell_type": "code",
   "execution_count": 36,
   "id": "4af8c1c5",
   "metadata": {},
   "outputs": [
    {
     "data": {
      "image/png": "[encoded data removed]",
      "text/plain": [
       "<Figure size 432x288 with 2 Axes>"
      ]
     },
     "metadata": {
      "needs_background": "light"
     },
     "output_type": "display_data"
    }
   ],
   "source": [
    "#Define coordinates for source\n",
    "ReceiverFileinput=np.zeros([0,2])\n",
    "#Receiver set 1\n",
    "x_start=0.046\n",
    "x_end=0.046\n",
    "y_start=4.0266\n",
    "y_end=6.01\n",
    "\n",
    "ReqReceivers=8\n",
    "DistStarttoEnd=np.sqrt((x_end-x_start)**2+(y_end-y_start)**2)\n",
    "DistReceivers_m=DistStarttoEnd/ReqReceivers\n",
    "\n",
    "spacing=0.1524\n",
    "\n",
    "Array_raw=LinearArray(x_start,x_end,y_start,y_end,spacing)\n",
    "Array=TRplacement(dh_model,0,0,Array_raw)\n",
    "Receiver_addon=np.zeros([len(Array),2])\n",
    "for n in range(len(Array)):\n",
    "    Receiver_addon[n,0]=Array[n,0]\n",
    "    Receiver_addon[n,1]=Array[n,1]\n",
    "ReceiverFileinput=np.vstack((ReceiverFileinput,Receiver_addon))\n",
    "\n",
    "\n",
    "im1 = plt.contourf(xx_grid.T, yy_grid.T, zz_Vp,500,cmap=plt.cm.jet,norm=None)\n",
    "plt.scatter(SourceFileinput[:,0]/dh_model,SourceFileinput[:,1]/dh_model, color='black',label='Source Location')\n",
    "plt.scatter(ReceiverFileinput[:,0]/dh_model,ReceiverFileinput[:,1]/dh_model, color='white',label='Source Location')\n",
    "plt.plot([0,NX-1],[FW,FW],'black',linestyle='dashed')\n",
    "plt.plot([0,NX-1],[NY-FW-1,NY-FW-1],'black',linestyle='dashed')\n",
    "plt.plot([FW,FW],[0,NY-1],'black',linestyle='dashed')\n",
    "plt.plot([NX-FW-1,NX-FW-1],[0,NY-1],'black',linestyle='dashed')\n",
    "plt.xlim(0,NX-1) ; plt.ylim(0,NY-1)\n",
    "plt.legend()\n",
    "plt.title('Plane wave - Line')\n",
    "plt.xlabel('x (grid number)'); plt.ylabel('y (grid number)')\n",
    "cbar = plt.colorbar(im1, orientation = 'vertical')\n",
    "cbar.set_label(\"P-wave velocity (m/s)\")"
   ]
  },
  {
   "cell_type": "code",
   "execution_count": 37,
   "id": "01023065",
   "metadata": {},
   "outputs": [],
   "source": [
    "SEISMO=2\n",
    "READREC=1\n",
    "REC_FILE='./receiver/receiver.dat'\n",
    "REFREC_TUPLE=str(0)+' , '+str(0)\n",
    "REC1_TUPLE=str(x_start)+' , '+str(y_start)\n",
    "REC2_TUPLE=str(x_end)+' , '+str(y_end)\n",
    "NGEOPH=27"
   ]
  },
  {
   "cell_type": "code",
   "execution_count": 38,
   "id": "6c1cdcc5",
   "metadata": {},
   "outputs": [],
   "source": [
    "Decimals=5\n",
    "file=open('receiver.dat','w')\n",
    "for n in range(len(ReceiverFileinput)):\n",
    "    file.write('{} {}\\n'.format(np.round(ReceiverFileinput[n,0],decimals=Decimals),np.round(ReceiverFileinput[n,1],decimals=Decimals)))"
   ]
  },
  {
   "cell_type": "code",
   "execution_count": 39,
   "id": "a7c20e1e",
   "metadata": {},
   "outputs": [
    {
     "name": "stdout",
     "output_type": "stream",
     "text": [
      "0.046 4.026\n",
      "0.046 4.179\n",
      "0.046 4.331\n",
      "0.046 4.483\n",
      "0.046 4.636\n",
      "0.046 4.788\n",
      "0.046 4.941\n",
      "0.046 5.093\n",
      "0.046 5.245\n",
      "0.046 5.398\n",
      "0.046 5.55\n",
      "0.046 5.703\n",
      "0.046 5.855\n",
      "\n"
     ]
    }
   ],
   "source": [
    "file=open('receiver.dat','r')\n",
    "print(file.read())"
   ]
  },
  {
   "cell_type": "markdown",
   "id": "6842e31a",
   "metadata": {},
   "source": [
    "##### JSON Update"
   ]
  },
  {
   "cell_type": "code",
   "execution_count": 40,
   "id": "b3d6ce96",
   "metadata": {},
   "outputs": [
    {
     "data": {
      "text/plain": [
       "198"
      ]
     },
     "execution_count": 40,
     "metadata": {},
     "output_type": "execute_result"
    }
   ],
   "source": [
    "line1=('\"Receivers\":\"comment\",')\n",
    "line2=('\"SEISMO\":\"'+str(SEISMO)+'\",')\n",
    "line3=('\"READREC\":\"'+str(READREC)+'\",')\n",
    "line4=('\"REC_FILE\":\"'+str(REC_FILE)+'\",')\n",
    "line5=('\"REFRECX, REFRECY\":\"'+str(REFREC_TUPLE)+'\",')\n",
    "line6=('\"XREC1, YREC1\":\"'+str(REC1_TUPLE)+'\",')\n",
    "line7=('\"XREC2, YREC2\":\"'+str(REC2_TUPLE)+'\",')\n",
    "line8=('\"NGEOPH\":\"'+str(NGEOPH)+'\",')\n",
    "jsonfile.write('\\n{}\\n{}\\n{}\\n{}\\n{}\\n{}\\n{}\\n{}\\n'.format(line1,line2,line3,line4,line5,line6,line7,line8))"
   ]
  },
  {
   "cell_type": "markdown",
   "id": "1abb3e90",
   "metadata": {},
   "source": [
    "#### 4.11 Receiver array\n",
    "In case I want horizontal set of receivers, I can set up this option on.\n",
    "Parameters are:\n",
    "- REC_ARRAY: number of horizontal receiver arrays simulated. (No=0)\n",
    "- REC_ARRAY_DEPTH: depth of the first array (in m)\n",
    "- REC_ARRAY_DIST: vertical distance between arrays (in m)\n",
    "- DRX: distance between receivers for each horizontal array (in grid points)"
   ]
  },
  {
   "cell_type": "code",
   "execution_count": 41,
   "id": "991c82cb",
   "metadata": {},
   "outputs": [],
   "source": [
    "REC_ARRAY=0\n",
    "REC_ARRAY_DEPTH=70\n",
    "REC_ARRAY_DIST=40\n",
    "DRX=4"
   ]
  },
  {
   "cell_type": "markdown",
   "id": "379276fb",
   "metadata": {},
   "source": [
    "##### JSON Update"
   ]
  },
  {
   "cell_type": "code",
   "execution_count": 42,
   "id": "d401af1b",
   "metadata": {},
   "outputs": [
    {
     "data": {
      "text/plain": [
       "105"
      ]
     },
     "execution_count": 42,
     "metadata": {},
     "output_type": "execute_result"
    }
   ],
   "source": [
    "line1=('\"Receivers array\":\"comment\",')\n",
    "line2=('\"REC_ARRAY\":\"'+str(REC_ARRAY)+'\",')\n",
    "line3=('\"REC_ARRAY_DEPTH\":\"'+str(REC_ARRAY_DEPTH)+'\",')\n",
    "line4=('\"REC_ARRAY_DIST\":\"'+str(REC_ARRAY_DIST)+'\",')\n",
    "line5=('\"DRX\":\"'+str(DRX)+'\",')\n",
    "jsonfile.write('\\n{}\\n{}\\n{}\\n{}\\n{}\\n'.format(line1,line2,line3,line4,line5))"
   ]
  },
  {
   "cell_type": "markdown",
   "id": "d90be554",
   "metadata": {},
   "source": [
    "#### 4.12 Seismograms\n",
    "In this step, I set up the format and location of output waveforms at each receiver.\n",
    "Parameters are:\n",
    "- NDT: sampling rate (in time steps)\n",
    "- SEIS_FORMAT: data output format (SU format=1, TEXTUAL -native ASCII- =2,BINARY -IEEE-4-bytes-float-=3)\n",
    "- SEIS_FILE: basic filename"
   ]
  },
  {
   "cell_type": "code",
   "execution_count": 43,
   "id": "a120aa1f",
   "metadata": {},
   "outputs": [],
   "source": [
    "NDT=1\n",
    "SEIS_FORMAT=2\n",
    "SEIS_FILE='./su/test'"
   ]
  },
  {
   "cell_type": "markdown",
   "id": "5ccb1e09",
   "metadata": {},
   "source": [
    "##### JSON Update"
   ]
  },
  {
   "cell_type": "code",
   "execution_count": 44,
   "id": "3f4262bc",
   "metadata": {},
   "outputs": [
    {
     "data": {
      "text/plain": [
       "81"
      ]
     },
     "execution_count": 44,
     "metadata": {},
     "output_type": "execute_result"
    }
   ],
   "source": [
    "line1=('\"Seismograms\":\"comment\",')\n",
    "line2=('\"NDT\":\"'+str(NDT)+'\",')\n",
    "line3=('\"SEIS_FORMAT\":\"'+str(SEIS_FORMAT)+'\",')\n",
    "line4=('\"SEIS_FILE\":\"'+str(SEIS_FILE)+'\",')\n",
    "jsonfile.write('\\n{}\\n{}\\n{}\\n{}\\n'.format(line1,line2,line3,line4))"
   ]
  },
  {
   "cell_type": "markdown",
   "id": "d94dc268",
   "metadata": {},
   "source": [
    "#### 4.13 Monitoring the simulation\n",
    "In this step I setup the amount of information I obtain in order to control the simulation.\n",
    "Parameters are:\n",
    "- LOG: output of logging information of node (no output=0, to stdout=1, to file LOG_FILE=2)\n",
    "- LOG_FILE: log file name to output the monitoring info\n",
    "- OUT_TIMESTEP_INFO: time between monitoring outputs"
   ]
  },
  {
   "cell_type": "code",
   "execution_count": 45,
   "id": "4d6dd5f3",
   "metadata": {},
   "outputs": [],
   "source": [
    "LOG=1\n",
    "LOG_FILE='log/test.log/'\n",
    "OUT_TIMESTEP_INFO=1000"
   ]
  },
  {
   "cell_type": "markdown",
   "id": "758adf92",
   "metadata": {},
   "source": [
    "##### JSON Update"
   ]
  },
  {
   "cell_type": "code",
   "execution_count": 46,
   "id": "e7c93152",
   "metadata": {},
   "outputs": [
    {
     "data": {
      "text/plain": [
       "92"
      ]
     },
     "execution_count": 46,
     "metadata": {},
     "output_type": "execute_result"
    }
   ],
   "source": [
    "line1=('\"Monitoring\":\"comment\",')\n",
    "line2=('\"LOG_FILE\":\"'+str(LOG_FILE)+'\",')\n",
    "line3=('\"LOG\":\"'+str(LOG)+'\",')\n",
    "line4=('\"OUT_TIMESTEP_INFO\":\"'+str(OUT_TIMESTEP_INFO)+'\",')\n",
    "jsonfile.write('\\n{}\\n{}\\n{}\\n{}\\n'.format(line1,line2,line3,line4))"
   ]
  },
  {
   "cell_type": "markdown",
   "id": "2261ee10",
   "metadata": {},
   "source": [
    "#### 4.14 Checkpointing\n",
    "If I want to generate checkpoints and continue from an specific point since I interrupted my processing, I can set up this parameters. They can generate a huge amount of data!\n",
    "Parameters are:\n",
    "- CHECKPTREAD: read wavefield from checkpoint file (yes=1, no=0)\n",
    "- CHECKPTWRITE: write wavefield to checkpoint file (yes=1, no=0)\n",
    "- CHECKPTFILE: checkpoint filename"
   ]
  },
  {
   "cell_type": "code",
   "execution_count": 47,
   "id": "d20c13d3",
   "metadata": {},
   "outputs": [],
   "source": [
    "CHECKPTREAD=0\n",
    "CHECKPTWRITE=0\n",
    "CHECKPT_FILE='tmp/checkpoint_sofi2D'"
   ]
  },
  {
   "cell_type": "markdown",
   "id": "0c3412d7",
   "metadata": {},
   "source": [
    "##### JSON Update"
   ]
  },
  {
   "cell_type": "code",
   "execution_count": 48,
   "id": "2cb133f2",
   "metadata": {},
   "outputs": [],
   "source": [
    "line1=('\"Checkpointing\":\"comment\",')\n",
    "line2=('\"CHECKPTREAD\":\"'+str(CHECKPTREAD)+'\",')\n",
    "line3=('\"CHECKPTWRITE\":\"'+str(CHECKPTWRITE)+'\",')\n",
    "line4=('\"CHECKPT_FILE\":\"'+str(CHECKPT_FILE)+'\",')\n",
    "line5=('}')\n",
    "jsonfile.write('\\n{}\\n{}\\n{}\\n{}\\n{}\\n'.format(line1,line2,line3,line4,line5))\n",
    "jsonfile.close()"
   ]
  },
  {
   "cell_type": "markdown",
   "id": "334ded1a",
   "metadata": {},
   "source": [
    "#### 4.15 JSON File Preview"
   ]
  },
  {
   "cell_type": "code",
   "execution_count": 49,
   "id": "f75514ab",
   "metadata": {},
   "outputs": [
    {
     "name": "stdout",
     "output_type": "stream",
     "text": [
      "{\n",
      "\"Domain Decomposition\":\"comment\",\n",
      "\"NPROCX\":\"4\",\n",
      "\"NPROCY\":\"5\",\n",
      "\n",
      "\"FD order\":\"comment\",\n",
      "\"FDORDER\":\"12\",\n",
      "\"FDORDER_TIME\":\"4\",\n",
      "\"MAXRELERROR\":\"0\",\n",
      "\n",
      "\"2-D Grid\":\"comment\",\n",
      "\"NX\":\"300\",\n",
      "\"NY\":\"7000\",\n",
      "\"DH\":\"0.001\",\n",
      "\n",
      "\"Time Stepping\":\"comment\",\n",
      "\"TIME\":\"0.0055\",\n",
      "\"DT\":\"2.514e-06\",\n",
      "\n",
      "\"Sources\":\"comment\",\n",
      "\"SOURCE_SHAPE\":\"1\",\n",
      "\"SIGNAL_FILE\":\"signal_mseis.tz\",\n",
      "\"SOURCE_TYPE\":\"1\",\n",
      "\"SRCREC\":\"1\",\n",
      "\"SOURCE_FILE\":\"./sources/source.dat\",\n",
      "\"RUN_MULTIPLE_SHOTS\":\"0\",\n",
      "\"PLANE_WAVE_DEPTH\":\"0\",\n",
      "\"PLANE_WAVE_ANGLE\":\"0\",\n",
      "\"TS\":\"0.0007\",\n",
      "\n",
      "\"Model Generation\":\"comment\",\n",
      "\"READMOD\":\"1\",\n",
      "\"MFILE\":\"model/test\",\n",
      "\"WRITE_MODELFILES\":\"1\",\n",
      "\n",
      "\"Q-Approximation\":\"comment\",\n",
      "\"L\":\"0\",\n",
      "\"FL1\":\"4000\",\n",
      "\"TAU\":\"0\",\n",
      "\n",
      "\"Boundary Conditions\":\"comment\",\n",
      "\"FREE_SURF\":\"0\",\n",
      "\"BOUNDARY\":\"0\",\n",
      "\"FW\":\"35\",\n",
      "\"ABS_TYPE\":\"2\",\n",
      "\"NPOWER\":\"4\",\n",
      "\"K_MAX_CPML\":\"1\",\n",
      "\"VPPML\":\"3048\",\n",
      "\"FPML\":\"8603\",\n",
      "\"DAMPING\":\"8\",\n",
      "\n",
      "\"Wavefield Snapshots\":\"comment\",\n",
      "\"SNAP\":\"4\",\n",
      "\"TSNAP1\":\"0.00010999999999999999\",\n",
      "\"TSNAP2\":\"0.0055\",\n",
      "\"TSNAPINC\":\"0.00010999999999999999\",\n",
      "\"IDX\":\"25\",\n",
      "\"IDY\":\"25\",\n",
      "\"SNAP_FORMAT\":\"3\",\n",
      "\"SNAP_FILE\":\"./snap/test\",\n",
      "\n",
      "\"Receivers\":\"comment\",\n",
      "\"SEISMO\":\"2\",\n",
      "\"READREC\":\"1\",\n",
      "\"REC_FILE\":\"./receiver/receiver.dat\",\n",
      "\"REFRECX, REFRECY\":\"0 , 0\",\n",
      "\"XREC1, YREC1\":\"0.046 , 4.0266\",\n",
      "\"XREC2, YREC2\":\"0.046 , 6.01\",\n",
      "\"NGEOPH\":\"27\",\n",
      "\n",
      "\"Receivers array\":\"comment\",\n",
      "\"REC_ARRAY\":\"0\",\n",
      "\"REC_ARRAY_DEPTH\":\"70\",\n",
      "\"REC_ARRAY_DIST\":\"40\",\n",
      "\"DRX\":\"4\",\n",
      "\n",
      "\"Seismograms\":\"comment\",\n",
      "\"NDT\":\"1\",\n",
      "\"SEIS_FORMAT\":\"2\",\n",
      "\"SEIS_FILE\":\"./su/test\",\n",
      "\n",
      "\"Monitoring\":\"comment\",\n",
      "\"LOG_FILE\":\"log/test.log/\",\n",
      "\"LOG\":\"1\",\n",
      "\"OUT_TIMESTEP_INFO\":\"1000\",\n",
      "\n",
      "\"Checkpointing\":\"comment\",\n",
      "\"CHECKPTREAD\":\"0\",\n",
      "\"CHECKPTWRITE\":\"0\",\n",
      "\"CHECKPT_FILE\":\"tmp/checkpoint_sofi2D\",\n",
      "}\n",
      "\n"
     ]
    }
   ],
   "source": [
    "jsonfile = open(\"sofi2D.json\", \"r\")\n",
    "print(jsonfile.read())"
   ]
  },
  {
   "cell_type": "markdown",
   "id": "c82765fa",
   "metadata": {},
   "source": [
    "### 5. Next Steps\n",
    "\n",
    "#### 5.1 Generated input files and location\n",
    "We describe the generated files, function and location within the /SOFI2D/par/ folder\n",
    "- JSON file (sofi2D.json)--> Parameters --> ./in_and_out/\n",
    "- VP, VS, RHO, QP and QS models (test.vp, test.vs, test.rho, test.qp, test.qs) --> Mechanical properties models --> ./model/\n",
    "- SOURCES file (source.dat) --> Sources' location and parameters --> ./sources/\n",
    "- RECEIVERS file (receiver.dat) --> Receiver's location\n",
    "\n",
    "#### 5.2 Model QC\n",
    "After moving the model files to SOFI2D/model/ folder, we can check the model structure using the command ximage.\n",
    "Using this command before executing the files helps QCing input files.\n",
    "Execute for (each) one of the input model files (from SOFI2D/par/ directory):\n",
    "ximage n1=NY n2=NX < model/.test.vp\n",
    "\n",
    "#### 5.3 Compilation of sofi2D\n",
    "This is located and run in folder SOFI2D/src/\n",
    "This can be done once, unless you change something within the parametrical modeling files.\n",
    "- MODEL_V=hh_visco.c --> viscoelastic model (L>0)\n",
    "- MODEL_E=hh_elastic.c --> elastic model (L=0)\n",
    "- Overnight builts (not developed here)\n",
    "Within src directory, execute either make all or make sofi2D (snapmerge will be also generated)\n",
    "\n",
    "#### 5.4 Running the program\n",
    "Running the program is started from the folder SOFI2D/par/\n",
    "Running has the following structure:\n",
    "    mpirun -np 1 nice -19 ../bin/sofi2D ./in_and_out/sofi2D.json | tee ./in_and_out/sofi2D.jout\n",
    "where:\n",
    "- mpirun is the executing command\n",
    "- -np is the number of processors we are using (if it is not equal to the one in sofi2D.json, the program will abort)\n",
    "- nice -19 is the priority index (-19 allows to process sofi2D in background and using the computer while processing)\n",
    "- ../bin/sofi2D is the compiled file (from 5.2)\n",
    "- ./in_and_out/sofi2D.json is the parameters file\n",
    "- | tee ./in_and_out/sofi2D.jout is the request to generate a report file called sofi2D.jout\n",
    "\n",
    "Once executed, the model will show sofi2d.json parameters in a table and start working. For each parameters, it will QC whether the parameter is correct (or not) and briefly explain its implications within processing. In most cases, if a parameter is not correct (wrong input), the process will terminate and a message error will show the parameter causing the issue.\n",
    "\n",
    "#### 5.5 Processing results - Output files and location\n",
    "After execution of the script, multiple files will be generated, depending on the JSON file parameters.\n",
    "We will enumerate files, structure and location of each output file:\n",
    "\n",
    "##### 5.5.a Report File\n",
    "This file writes down onscreen report shown when running the program.\n",
    "It will be written if, when running the program, \"| tee ./in_and_out/sofi2D.jout\" was written.\n",
    "Location of this file is ./in_and_out/\n",
    "Format of the file is ASCII, can be opened as text\n",
    "\n",
    "##### 5.5.b Models\n",
    "These files replicate the input model we used during processing.\n",
    "It will be written if the JSON parameter WRITE_MODELFILES is equal to 1 or 2. If equal to 1, then it will output all models Rho, U, Pi and Taup and Taus. If equal to 2, only density model Rho.\n",
    "Location of these files is ./model/\n",
    "File naming depends on the number of processors  used:\n",
    "- Files start with: test.SOFI2D.property (pi, rho, u, vp, vs)\n",
    "- Files have names based on how processors are distributed, assuming a grid with defined by arrays 0 to NX and 0 to NY\n",
    "- For example, the Vp model used in the segment taken by Processor number 4 (in NX=NY=2) is shown as: test.SOFI2D.vp.1.1\n",
    "Format of the file is binary.\n",
    "\n",
    "##### 5.5.c Wavefield snapshots\n",
    "These files replicate spatial seismograms during processing.\n",
    "It will be written if the JSON parameter SNAP is equal to 1, 2, 3 or 4. If equal to 1 the output is only particle velocities; if equal to 2, is the pressure field; if 3, curl and divergence energy; and if 4, all 1,2 and 3.\n",
    "Location of these files is ./snap/\n",
    "File naming depends on the number of processors  used:\n",
    "- Files start with: test.bin/txt.property (vx, vy, p, div, curl)\n",
    "- Files have names based on how processors are distributed, assuming a grid with defined by arrays 0 to NX and 0 to NY\n",
    "- For example, the Vp model used in the segment taken by Processor number 4 (in NX=NY=2) is shown as: test.bin.vp.1.1 (if the file is binary)\n",
    "- A final file containing the simulation within the whole space will have no processor coordinate references\n",
    "- Each file contains all snapshots in a single file\n",
    "Format of the files depends on JSON parameter SNAP_FORMAT: if equal to 2, format is ASCII, if equal to 3, then binary\n",
    "\n",
    "##### 5.5.d Seismograms\n",
    "These files are the waveforms acquired by each defined receiver.\n",
    "It will be written if the JSON parameter SEISMO is equal to 1, 2, 3 or 4. If equal to 1 the output is only particle velocities; if equal to 2, is the pressure field; if 3, curl and divergence energy; and if 4, all 1,2 and 3.\n",
    "Location of these files is ./su/\n",
    "File naming depends on the number of processors  used:\n",
    "- Files start with: test_property (vx, vy, p, div, curl)\n",
    "- Files have names based on how processors are distributed, assuming a grid with defined by arrays 0 to NX and 0 to NY\n",
    "- For example, the Vp model used in the segment taken by Processor number 4 (in NX=NY=2) is shown as: test_vp.bin.shot1 (when analyzing shot 1 for multiple shots)\n",
    "- A final file containing the simulation within the whole space will have no processor coordinate references\n",
    "- If multiple shots were performed, every file will be divided for each shot\n",
    "Format of the files depends on JSON parameter SEIS_FORMAT: if equal to 1, Seismic Unix format; if 2, format is ASCII, if equal to 3, then binary\n",
    "\n"
   ]
  },
  {
   "cell_type": "code",
   "execution_count": null,
   "id": "14afc294",
   "metadata": {},
   "outputs": [],
   "source": []
  }
 ],
 "metadata": {
  "kernelspec": {
   "display_name": "Python 3",
   "language": "python",
   "name": "python3"
  },
  "language_info": {
   "codemirror_mode": {
    "name": "ipython",
    "version": 3
   },
   "file_extension": ".py",
   "mimetype": "text/x-python",
   "name": "python",
   "nbconvert_exporter": "python",
   "pygments_lexer": "ipython3",
   "version": "3.8.8"
  }
 },
 "nbformat": 4,
 "nbformat_minor": 5
}
